{
 "cells": [
  {
   "cell_type": "markdown",
   "source": [
    "# Legalis Data Set\n",
    "\n",
    "Notebook used to edit the existing dataset for usage in the legalis project."
   ],
   "attachments": {},
   "metadata": {
    "datalore": {
     "node_id": "JPbsy3WD5d1rp9elgZ29X7",
     "type": "MD",
     "hide_input_from_viewers": true,
     "hide_output_from_viewers": true
    }
   }
  },
  {
   "cell_type": "markdown",
   "source": [
    "## Importing Libraries and Dataset"
   ],
   "attachments": {},
   "metadata": {
    "datalore": {
     "node_id": "sZLNGAqZ7EzUQfHWJoPSf5",
     "type": "MD",
     "hide_input_from_viewers": false,
     "hide_output_from_viewers": false,
     "report_properties": {
      "rowId": "cRBs3D6qt0S8seSaOjjuub"
     }
    }
   }
  },
  {
   "cell_type": "markdown",
   "source": [
    "#### install libaries with pip (needed for google colab)"
   ],
   "metadata": {
    "collapsed": false
   }
  },
  {
   "cell_type": "code",
   "execution_count": null,
   "outputs": [],
   "source": [
    "!pip install datasets\n",
    "!pip install bs4"
   ],
   "metadata": {
    "collapsed": false
   }
  },
  {
   "cell_type": "markdown",
   "source": [
    "#### importing libaries"
   ],
   "metadata": {
    "collapsed": false
   }
  },
  {
   "cell_type": "code",
   "source": [
    "#standart imports\n",
    "import os\n",
    "\n",
    "import datasets as ds #for dataset management and processing\n",
    "from bs4 import BeautifulSoup #for html processing\n",
    "import re #for content processing\n",
    "from datetime import date #for date filtering\n",
    "import time #for date filtering"
   ],
   "execution_count": 4,
   "outputs": [],
   "metadata": {
    "datalore": {
     "node_id": "i4eTqNmM0jWgqOkacNG2vs",
     "type": "CODE",
     "hide_input_from_viewers": true,
     "hide_output_from_viewers": true
    },
    "ExecuteTime": {
     "end_time": "2023-06-27T20:35:46.481560100Z",
     "start_time": "2023-06-27T20:35:46.469549500Z"
    }
   }
  },
  {
   "cell_type": "markdown",
   "source": [
    "#### import of split but not enhanced dataset from huggingface hub or csv, commented out because only used once for initial upload to the hub"
   ],
   "metadata": {
    "collapsed": false
   }
  },
  {
   "cell_type": "code",
   "execution_count": 7,
   "outputs": [
    {
     "data": {
      "text/plain": "Creating CSV from Arrow format:   0%|          | 0/252 [00:00<?, ?ba/s]",
      "application/vnd.jupyter.widget-view+json": {
       "version_major": 2,
       "version_minor": 0,
       "model_id": "fe1792b40b694440a7d6afb347b6a442"
      }
     },
     "metadata": {},
     "output_type": "display_data"
    },
    {
     "data": {
      "text/plain": "7220836525"
     },
     "execution_count": 7,
     "metadata": {},
     "output_type": "execute_result"
    }
   ],
   "source": [
    "#loading dataset from csv (reproduction/inital way)\n",
    "#raw_dataset=ds.load_dataset(\"csv\", data_files=\"openlegaldata-bulk-data.csv\")"
   ],
   "metadata": {
    "collapsed": false,
    "ExecuteTime": {
     "end_time": "2023-06-27T20:44:32.513080400Z",
     "start_time": "2023-06-27T20:38:01.017975Z"
    }
   }
  },
  {
   "cell_type": "markdown",
   "source": [
    "#### pulling raw dataset from huggingface hub (production way) or csv, commented out because only used once for initial upload to the hub"
   ],
   "metadata": {
    "collapsed": false
   }
  },
  {
   "cell_type": "code",
   "source": [
    "#loading dataset from huggingface hub (production way)\n",
    "raw_dataset = ds.load_dataset(\"LennardZuendorf/openlegaldata-bulk-data\", split='train')\n",
    "print(raw_dataset)"
   ],
   "execution_count": 6,
   "outputs": [
    {
     "name": "stderr",
     "output_type": "stream",
     "text": [
      "Found cached dataset json (C:/Users/lenna/.cache/huggingface/datasets/LennardZuendorf___json/LennardZuendorf--openlegaldata-bulk-data-0d18a44c8ee5464a/0.0.0/e347ab1c932092252e717ff3f949105a4dd28b27e842dd53157d2f72e276c2e4)\n"
     ]
    },
    {
     "name": "stdout",
     "output_type": "stream",
     "text": [
      "Dataset({\n",
      "    features: ['id', 'slug', 'court', 'file_number', 'date', 'created_date', 'updated_date', 'type', 'ecli', 'content'],\n",
      "    num_rows: 251038\n",
      "})\n"
     ]
    }
   ],
   "metadata": {
    "datalore": {
     "node_id": "eKB5zAj9oaWOmtQJ7Pq8Y9",
     "type": "CODE",
     "hide_input_from_viewers": true,
     "hide_output_from_viewers": true
    },
    "ExecuteTime": {
     "end_time": "2023-06-27T20:37:44.743254800Z",
     "start_time": "2023-06-27T20:37:19.553837700Z"
    }
   }
  },
  {
   "cell_type": "markdown",
   "source": [
    "#### import of already processed dataset for updates (testing/edit way)"
   ],
   "metadata": {
    "collapsed": false
   }
  },
  {
   "cell_type": "code",
   "execution_count": 5,
   "outputs": [
    {
     "data": {
      "text/plain": "Downloading readme:   0%|          | 0.00/749 [00:00<?, ?B/s]",
      "application/vnd.jupyter.widget-view+json": {
       "version_major": 2,
       "version_minor": 0,
       "model_id": "c50db7a4e820423ba9ce389c22d5cd95"
      }
     },
     "metadata": {},
     "output_type": "display_data"
    },
    {
     "name": "stdout",
     "output_type": "stream",
     "text": [
      "Downloading and preparing dataset None/None to C:/Users/lenna/.cache/huggingface/datasets/LennardZuendorf___parquet/LennardZuendorf--openlegaldata-processed-8fa5f5fb35684e99/0.0.0/2a3b91fbd88a2c90d1dbbb32b460cf621d31bd5b05b934492fdef7d8d6f236ec...\n"
     ]
    },
    {
     "data": {
      "text/plain": "Downloading data files:   0%|          | 0/2 [00:00<?, ?it/s]",
      "application/vnd.jupyter.widget-view+json": {
       "version_major": 2,
       "version_minor": 0,
       "model_id": "04922e47e50a498ca5785d483e8f9fa7"
      }
     },
     "metadata": {},
     "output_type": "display_data"
    },
    {
     "data": {
      "text/plain": "Downloading data:   0%|          | 0.00/82.5M [00:00<?, ?B/s]",
      "application/vnd.jupyter.widget-view+json": {
       "version_major": 2,
       "version_minor": 0,
       "model_id": "167609c48c7b4976b8900ef9dfc9e497"
      }
     },
     "metadata": {},
     "output_type": "display_data"
    },
    {
     "data": {
      "text/plain": "Downloading data:   0%|          | 0.00/89.7M [00:00<?, ?B/s]",
      "application/vnd.jupyter.widget-view+json": {
       "version_major": 2,
       "version_minor": 0,
       "model_id": "830e6cbf37d649a6813760f526ec0bf1"
      }
     },
     "metadata": {},
     "output_type": "display_data"
    },
    {
     "data": {
      "text/plain": "Extracting data files:   0%|          | 0/2 [00:00<?, ?it/s]",
      "application/vnd.jupyter.widget-view+json": {
       "version_major": 2,
       "version_minor": 0,
       "model_id": "6d287d495b2149e59600ef2c0c378e5f"
      }
     },
     "metadata": {},
     "output_type": "display_data"
    },
    {
     "data": {
      "text/plain": "Generating three split:   0%|          | 0/2828 [00:00<?, ? examples/s]",
      "application/vnd.jupyter.widget-view+json": {
       "version_major": 2,
       "version_minor": 0,
       "model_id": "648185f1e9144bd4902bbf9be37426c7"
      }
     },
     "metadata": {},
     "output_type": "display_data"
    },
    {
     "data": {
      "text/plain": "Generating two split:   0%|          | 0/4954 [00:00<?, ? examples/s]",
      "application/vnd.jupyter.widget-view+json": {
       "version_major": 2,
       "version_minor": 0,
       "model_id": "d6c33b7c08d642098b9332fb55e534f1"
      }
     },
     "metadata": {},
     "output_type": "display_data"
    },
    {
     "name": "stdout",
     "output_type": "stream",
     "text": [
      "Dataset parquet downloaded and prepared to C:/Users/lenna/.cache/huggingface/datasets/LennardZuendorf___parquet/LennardZuendorf--openlegaldata-processed-8fa5f5fb35684e99/0.0.0/2a3b91fbd88a2c90d1dbbb32b460cf621d31bd5b05b934492fdef7d8d6f236ec. Subsequent calls will reuse this data.\n"
     ]
    },
    {
     "name": "stderr",
     "output_type": "stream",
     "text": [
      "Found cached dataset parquet (C:/Users/lenna/.cache/huggingface/datasets/LennardZuendorf___parquet/LennardZuendorf--openlegaldata-processed-8fa5f5fb35684e99/0.0.0/2a3b91fbd88a2c90d1dbbb32b460cf621d31bd5b05b934492fdef7d8d6f236ec)\n"
     ]
    },
    {
     "name": "stdout",
     "output_type": "stream",
     "text": [
      "Dataset({\n",
      "    features: ['id', 'court', 'file_number', 'date', 'type', 'content', 'tenor', 'facts', 'reasoning'],\n",
      "    num_rows: 2828\n",
      "})\n",
      "Dataset({\n",
      "    features: ['id', 'court', 'file_number', 'date', 'type', 'content', 'tenor', 'facts', 'reasoning'],\n",
      "    num_rows: 4954\n",
      "})\n"
     ]
    }
   ],
   "source": [
    "#loading dataset from huggingface hub (production way)\n",
    "#three_split_dataset=ds.load_dataset(\"LennardZuendorf/openlegaldata-processed\", split=\"three\")\n",
    "#two_split_dataset=ds.load_dataset(\"LennardZuendorf/openlegaldata-processed\", split=\"two\")\n",
    "#print(three_split_dataset)\n",
    "#print(two_split_dataset)"
   ],
   "metadata": {
    "collapsed": false,
    "ExecuteTime": {
     "end_time": "2023-06-27T20:36:17.227819400Z",
     "start_time": "2023-06-27T20:35:49.260405300Z"
    }
   }
  },
  {
   "cell_type": "markdown",
   "source": [
    "## Creating the Basic Dataset for Training and Testing\n",
    "#### Cleaning raw dataset"
   ],
   "attachments": {},
   "metadata": {
    "datalore": {
     "node_id": "8M4YZ8shUP3ujAqnTmQ0oB",
     "type": "MD",
     "hide_input_from_viewers": false,
     "hide_output_from_viewers": false,
     "report_properties": {
      "rowId": "cRBs3D6qt0S8seSaOjjuub"
     }
    }
   }
  },
  {
   "cell_type": "code",
   "source": [
    "# removing unnecessary columns\n",
    "raw_dataset = raw_dataset.remove_columns(['slug', 'ecli', 'updated_date', 'created_date'])\n",
    "\n",
    "#updating columns in nested dict ('court')\n",
    "def cleaning_courts(data):\n",
    "    del data['court']['slug']\n",
    "    del data['court']['city']\n",
    "    return data\n",
    "\n",
    "#applying function to clean courts\n",
    "raw_dataset = raw_dataset.map(cleaning_courts)"
   ],
   "execution_count": 7,
   "outputs": [
    {
     "data": {
      "application/vnd.jupyter.widget-view+json": {
       "version_major": 2,
       "version_minor": 0,
       "model_id": "ebaae0b5e1dc41938781b4d626cc061f"
      }
     },
     "metadata": {
      "application/vnd.jupyter.widget-view+json": {
       "datalore": {
        "widget_id": "B03DmuPnG4U7vK0mlzkn1e"
       }
      }
     },
     "output_type": "display_data"
    }
   ],
   "metadata": {
    "datalore": {
     "node_id": "QiNnpmDmdcmNv06Umf0rUs",
     "type": "CODE",
     "hide_input_from_viewers": false,
     "hide_output_from_viewers": false,
     "report_properties": {
      "rowId": "cRBs3D6qt0S8seSaOjjuub"
     }
    }
   }
  },
  {
   "cell_type": "markdown",
   "source": [
    "#### Filtering raw dataset for relevant data"
   ],
   "metadata": {
    "collapsed": false
   }
  },
  {
   "cell_type": "code",
   "source": [
    "# function for cleaning date information into datetime.date object, throwing out data younger than 1 week\n",
    "def clean_date(data):\n",
    "    data['date'] = data['date'].date()\n",
    "\n",
    "    return data\n",
    "\n",
    "#applying function to clean dates\n",
    "cleaned_dataset = raw_dataset.map(clean_date)\n",
    "\n",
    "#filtering for dates older than 1 week\n",
    "cleaned_dataset = cleaned_dataset.filter(lambda x: x['date'].date() < date.fromtimestamp(time.time()))\n",
    "#filtering dataset for special decision types\n",
    "cleaned_dataset = cleaned_dataset.filter(lambda x: x['type'].lower() == 'urteil' or x['type'].lower() == 'abschlussurteil')\n",
    "\n",
    "print(cleaned_dataset)"
   ],
   "execution_count": 8,
   "outputs": [
    {
     "name": "stdout",
     "text": [
      "Dataset({\n",
      "    features: ['id', 'court', 'file_number', 'date', 'type', 'content'],\n",
      "    num_rows: 137271\n",
      "})\n"
     ],
     "output_type": "stream"
    },
    {
     "data": {
      "application/vnd.jupyter.widget-view+json": {
       "version_major": 2,
       "version_minor": 0,
       "model_id": "4fffefcfc8e842b7b9052d5cae19be8f"
      }
     },
     "metadata": {
      "application/vnd.jupyter.widget-view+json": {
       "datalore": {
        "widget_id": "OCoi2o8xuXzm5uS61YipT2"
       }
      }
     },
     "output_type": "display_data"
    },
    {
     "data": {
      "application/vnd.jupyter.widget-view+json": {
       "version_major": 2,
       "version_minor": 0,
       "model_id": "87f3e377814c402abe95a0a2c80780a7"
      }
     },
     "metadata": {
      "application/vnd.jupyter.widget-view+json": {
       "datalore": {
        "widget_id": "NRVZuT9LGTFGqdVVXf3ATM"
       }
      }
     },
     "output_type": "display_data"
    },
    {
     "data": {
      "application/vnd.jupyter.widget-view+json": {
       "version_major": 2,
       "version_minor": 0,
       "model_id": "2bfceb9cd68845b9a6b6930870a70fe3"
      }
     },
     "metadata": {
      "application/vnd.jupyter.widget-view+json": {
       "datalore": {
        "widget_id": "e4DvRAZi5tlSthAtHbJD1K"
       }
      }
     },
     "output_type": "display_data"
    }
   ],
   "metadata": {
    "datalore": {
     "node_id": "60CkmuWp7ohvvjRiR6D8c2",
     "type": "CODE",
     "hide_input_from_viewers": false,
     "hide_output_from_viewers": false,
     "report_properties": {
      "rowId": "cRBs3D6qt0S8seSaOjjuub"
     }
    }
   }
  },
  {
   "cell_type": "markdown",
   "source": [
    "## Preprocessing Datasets\n",
    "#### splitting two text dataset content into clean tenor and reasoning"
   ],
   "attachments": {},
   "metadata": {
    "datalore": {
     "node_id": "zeUSqrYEzcBhbJ0SQnPwit",
     "type": "MD",
     "hide_input_from_viewers": false,
     "hide_output_from_viewers": false,
     "report_properties": {
      "rowId": "cRBs3D6qt0S8seSaOjjuub"
     }
    }
   }
  },
  {
   "cell_type": "code",
   "source": [
    "#splitting content into tenor and reasoning\n",
    "def splitting_content_twotext(data):\n",
    "    #cleaning entire content of html, newlines and whitespaces\n",
    "    content_soup = BeautifulSoup(data['content'])\n",
    "    content = content_soup.get_text().strip()\n",
    "    content = re.sub('\\n', ' ', content)\n",
    "    content = ' '.join(content.split())\n",
    "    data['content'] = content\n",
    "\n",
    "    #splitting content into tenor and reasoning\n",
    "    split_content = data['content'].rsplit(sep=\"<h2>Gründe</h2>\")\n",
    "\n",
    "    #alternative splitting if first split was not possible\n",
    "    if len(split_content) != 2:\n",
    "        split_content = data['content'].rsplit(sep=\"<!--hlIgnoreOn-->Gründe<!--hlIgnoreOff-->\")\n",
    "\n",
    "    if len(split_content) != 2:\n",
    "        split_content = data['content'].rsplit(sep=\"Gründe:\")\n",
    "\n",
    "    if len(split_content) != 2:\n",
    "        #settting tenor and reasoning to None if no split was possible\n",
    "        data['tenor'] = None\n",
    "        data['reasoning'] = None\n",
    "        data['facts'] = None\n",
    "\n",
    "    if len(split_content) == 2:\n",
    "        #cleaning tenor of html, newlines and whitespaces\n",
    "        tenor_soup = BeautifulSoup(split_content[0])\n",
    "        tenor = tenor_soup.get_text().strip()\n",
    "        tenor = re.sub('\\n', ' ', tenor)\n",
    "        tenor = ' '.join(tenor.split()).lower()\n",
    "        split_tenor = tenor.rsplit(sep=\"tenor\")\n",
    "\n",
    "        #setting tenor\n",
    "        if len(split_tenor) ==2:\n",
    "            data['tenor'] = split_tenor[1]\n",
    "        else:\n",
    "            data['tenor'] = split_tenor[0]\n",
    "\n",
    "        #cleaning reasoning of html, newlines and whitespaces\n",
    "        reason_soup = BeautifulSoup(split_content[1])\n",
    "        reason = reason_soup.get_text().strip()\n",
    "        reason = re.sub('\\n', ' ', reason)\n",
    "        data['reasoning'] = ' '.join(reason.split()).lower()\n",
    "\n",
    "        #setting facts with dummy data for equal dataset structure\n",
    "        data['facts'] = \"\"\n",
    "\n",
    "    return data\n",
    "\n",
    "\n",
    "#filtering for content containing needed words (tenor and reasoning)\n",
    "two_split_dataset = raw_dataset.filter(lambda x: x['content'].lower().find(\"gründe\") != -1\n",
    "                                                 and x['content'].lower().find(\"tenor\") != -1)\n",
    "#applying function to split content into tenor and reasoning\n",
    "two_split_dataset = two_split_dataset.map(splitting_content_twotext)\n",
    "print(two_split_dataset)"
   ],
   "execution_count": 11,
   "outputs": [
    {
     "name": "stdout",
     "text": [
      "Dataset({\n",
      "    features: ['id', 'court', 'file_number', 'date', 'type', 'content', 'tenor', 'reasoning', 'facts'],\n",
      "    num_rows: 86095\n",
      "})\n"
     ],
     "output_type": "stream"
    },
    {
     "name": "stderr",
     "text": [
      "Loading cached processed dataset at /home/datalore/.cache/huggingface/datasets/LennardZuendorf___json/LennardZuendorf--openlegaldata-bulk-data-0d18a44c8ee5464a/0.0.0/e347ab1c932092252e717ff3f949105a4dd28b27e842dd53157d2f72e276c2e4/cache-96c9c66ff9d224fa.arrow\n",
      "<ipython-input-11-69b82d927409>:29: MarkupResemblesLocatorWarning: The input looks more like a filename than markup. You may want to open this file and pass the filehandle into Beautiful Soup.\n",
      "  tenor_soup = BeautifulSoup(split_content[0])\n",
      "<ipython-input-11-69b82d927409>:41: MarkupResemblesLocatorWarning: The input looks more like a filename than markup. You may want to open this file and pass the filehandle into Beautiful Soup.\n",
      "  reason_soup = BeautifulSoup(split_content[1])\n"
     ],
     "output_type": "stream"
    },
    {
     "data": {
      "application/vnd.jupyter.widget-view+json": {
       "version_major": 2,
       "version_minor": 0,
       "model_id": "ab2e78ecb67e493db27c70f35f9931f3"
      }
     },
     "metadata": {
      "application/vnd.jupyter.widget-view+json": {
       "datalore": {
        "widget_id": "QjMacktydUr1N2I7KCDRwf"
       }
      }
     },
     "output_type": "display_data"
    }
   ],
   "metadata": {
    "datalore": {
     "node_id": "SPMKi8bEheigzUUDMGlw3c",
     "type": "CODE",
     "hide_input_from_viewers": true,
     "hide_output_from_viewers": true
    }
   }
  },
  {
   "cell_type": "markdown",
   "source": [
    "## creating based three split dataset for enhancing and usage in models\n",
    "#### splitting three text dataset content into clean tenor, reasoning and facts"
   ],
   "attachments": {},
   "metadata": {
    "datalore": {
     "node_id": "zwtqvzGEDU1vGrvXyml4lP",
     "type": "MD",
     "hide_input_from_viewers": false,
     "hide_output_from_viewers": false,
     "report_properties": {
      "rowId": "cRBs3D6qt0S8seSaOjjuub"
     }
    }
   }
  },
  {
   "cell_type": "code",
   "source": [
    "#splitting content into tenor and reasoning\n",
    "def splitting_content_threetext(data):\n",
    "    #cleaning entire content of html, newlines and whitespaces\n",
    "    content_soup = BeautifulSoup(data['content'])\n",
    "    content = content_soup.get_text().strip()\n",
    "    content = re.sub('\\n', ' ', content)\n",
    "    content = ' '.join(content.split())\n",
    "\n",
    "    #setting content\n",
    "    data['content'] = content\n",
    "\n",
    "    try:\n",
    "        #splitting into tenor, facts and reasoning\n",
    "        split_content1 = content.rsplit(sep=\"Tatbestand:\")\n",
    "        split_content2 = split_content1[1].rsplit(sep=\"Entscheidungsgründe:\")\n",
    "\n",
    "        #alternative splitting if first split was not possible\n",
    "        if len(split_content2) != 2:\n",
    "            split_content1 = content.rsplit(sep=\"Entscheidungsgründe:\")\n",
    "            split_content2 = split_content1[1].rsplit(sep=\"Tatbestand:\")\n",
    "\n",
    "        #setting tenor\n",
    "        tenor = split_content1[0].lower()\n",
    "        split_tenor = tenor.rsplit(sep=\"tenor\")\n",
    "\n",
    "        #setting tenor\n",
    "        if len(split_tenor) ==2:\n",
    "            data['tenor'] = split_tenor[1]\n",
    "        else:\n",
    "            data['tenor'] = split_tenor[0]\n",
    "\n",
    "        #setting facts and reasoning\n",
    "        data['facts'] = split_content2[0].lower()\n",
    "        data['reasoning'] = split_content2[1].lower()\n",
    "\n",
    "    #settting tenor, reasoning and facts to None if no split was possible\n",
    "    except IndexError:\n",
    "        data['tenor'] = None\n",
    "        data['facts'] = None\n",
    "        data['reasoning'] = None\n",
    "\n",
    "    return data\n",
    "\n",
    "\n",
    "#filtering dataset for content containing needed words\n",
    "three_split_dataset = raw_dataset.filter(lambda x: x['content'].lower().find(\"tenor\") != -1\n",
    "                                               and x['content'].lower().find(\"tatbestand:\") != -1\n",
    "                                               and x['content'].lower().find(\"entscheidungsgründe:\") != -1)\n",
    "#applying function to split content into tenor, facts and reasoning\n",
    "three_split_dataset = three_split_dataset.map(splitting_content_threetext)"
   ],
   "execution_count": 12,
   "outputs": [
    {
     "data": {
      "application/vnd.jupyter.widget-view+json": {
       "version_major": 2,
       "version_minor": 0,
       "model_id": "75b0fea0b62d43be90d69c3576e60270"
      }
     },
     "metadata": {
      "application/vnd.jupyter.widget-view+json": {
       "datalore": {
        "widget_id": "TTHjE1rRMVy8kXI0pF4SHE"
       }
      }
     },
     "output_type": "display_data"
    },
    {
     "data": {
      "application/vnd.jupyter.widget-view+json": {
       "version_major": 2,
       "version_minor": 0,
       "model_id": "287087f1e7fe4e65b603412faf7e3b4c"
      }
     },
     "metadata": {
      "application/vnd.jupyter.widget-view+json": {
       "datalore": {
        "widget_id": "eaFXmttoXs8XoXUWewrby4"
       }
      }
     },
     "output_type": "display_data"
    }
   ],
   "metadata": {
    "datalore": {
     "node_id": "pRLq7lbDIYMsxzBzCHqoOK",
     "type": "CODE",
     "hide_input_from_viewers": false,
     "hide_output_from_viewers": false,
     "report_properties": {
      "rowId": "cRBs3D6qt0S8seSaOjjuub"
     }
    }
   }
  },
  {
   "cell_type": "markdown",
   "source": [
    "#### filtering failed splitting"
   ],
   "metadata": {
    "collapsed": false
   }
  },
  {
   "cell_type": "code",
   "source": [
    "#function to filter empty tenor and reasoning\n",
    "def filter_empty(data):\n",
    "    if data['tenor'] is None or str(data['tenor']).isspace() or data['tenor']==\"\":\n",
    "        return False\n",
    "    elif data['reasoning'] is None or str(data['reasoning']).isspace() or data['reasoning']==\"\":\n",
    "        return False\n",
    "    else:\n",
    "        return True\n",
    "\n",
    "#applying function to filter empty tenor and reasoning\n",
    "two_split_dataset = two_split_dataset.filter(filter_empty)\n",
    "three_split_dataset = three_split_dataset.filter(filter_empty)"
   ],
   "execution_count": 13,
   "outputs": [
    {
     "data": {
      "application/vnd.jupyter.widget-view+json": {
       "version_major": 2,
       "version_minor": 0,
       "model_id": "dbc9af611bb44d3a89a89de6822379f9"
      }
     },
     "metadata": {
      "application/vnd.jupyter.widget-view+json": {
       "datalore": {
        "widget_id": "bxJXD9Ue4o5rR6qoJq3vOY"
       }
      }
     },
     "output_type": "display_data"
    },
    {
     "data": {
      "application/vnd.jupyter.widget-view+json": {
       "version_major": 2,
       "version_minor": 0,
       "model_id": "148d6464dda74a7dbce065117a21371b"
      }
     },
     "metadata": {
      "application/vnd.jupyter.widget-view+json": {
       "datalore": {
        "widget_id": "jptaT3ynD7j9WJrBMmu0Yj"
       }
      }
     },
     "output_type": "display_data"
    }
   ],
   "metadata": {
    "datalore": {
     "node_id": "Yvr1gu8kBCith3uB7WGag3",
     "type": "CODE",
     "hide_input_from_viewers": true,
     "hide_output_from_viewers": true
    }
   }
  },
  {
   "cell_type": "markdown",
   "source": [
    "#### cleaning the text of tenor, reasoning and facts"
   ],
   "metadata": {
    "collapsed": false
   }
  },
  {
   "cell_type": "code",
   "source": [
    "#function to clean text into lowercase for better matching\n",
    "def text_cleaner(data):\n",
    "\n",
    "    #setting tenor to lowercase and splitting after \"tenor\"\n",
    "    tenor = data['tenor']\n",
    "    tenor = tenor.lower()\n",
    "    split_tenor = tenor.rsplit(sep=\"tenor\")\n",
    "\n",
    "    #setting tenor after split\n",
    "    if len(split_tenor) ==2:\n",
    "        data['tenor'] = split_tenor[1]\n",
    "    else:\n",
    "        data['tenor'] = split_tenor[0]\n",
    "\n",
    "    #setting reasoning and facts to lowercase\n",
    "    data['reasoning'] = data['reasoning'].lower()\n",
    "\n",
    "    if data['facts']:\n",
    "        data['facts'] = data['facts'].lower()\n",
    "\n",
    "    return data\n",
    "\n",
    "#applying function to clean text\n",
    "two_split_dataset = two_split_dataset.map(text_cleaner)\n",
    "three_split_dataset = three_split_dataset.map(text_cleaner)"
   ],
   "execution_count": 14,
   "outputs": [
    {
     "data": {
      "application/vnd.jupyter.widget-view+json": {
       "version_major": 2,
       "version_minor": 0,
       "model_id": "f806869f1e0d4e24a7966360cae6b85f"
      }
     },
     "metadata": {
      "application/vnd.jupyter.widget-view+json": {
       "datalore": {
        "widget_id": "lF5h4CMoQEfMvyYqiAZaZN"
       }
      }
     },
     "output_type": "display_data"
    },
    {
     "data": {
      "application/vnd.jupyter.widget-view+json": {
       "version_major": 2,
       "version_minor": 0,
       "model_id": "34dbc642f22148fda93c32b0c9b7d3d6"
      }
     },
     "metadata": {
      "application/vnd.jupyter.widget-view+json": {
       "datalore": {
        "widget_id": "kTrnsZ7qfgaSDNjpSPojG9"
       }
      }
     },
     "output_type": "display_data"
    }
   ],
   "metadata": {
    "datalore": {
     "node_id": "2Nnimh5YDwAkxjoCJFaPKL",
     "type": "CODE",
     "hide_input_from_viewers": true,
     "hide_output_from_viewers": true
    }
   }
  },
  {
   "cell_type": "markdown",
   "source": [
    "## Creating Splits, Uploading the new Dataset to HuggingFace Datasets"
   ],
   "attachments": {},
   "metadata": {
    "datalore": {
     "node_id": "kRHn9Jcq6DuRiMO9Kfv8MQ",
     "type": "MD",
     "hide_input_from_viewers": false,
     "hide_output_from_viewers": false,
     "report_properties": {
      "rowId": "cRBs3D6qt0S8seSaOjjuub"
     }
    }
   }
  },
  {
   "cell_type": "markdown",
   "source": [
    "#### saving datasets as csv for reproducibility without huggingface"
   ],
   "metadata": {
    "collapsed": false
   }
  },
  {
   "cell_type": "code",
   "execution_count": 9,
   "outputs": [
    {
     "data": {
      "text/plain": "Creating CSV from Arrow format:   0%|          | 0/3 [00:00<?, ?ba/s]",
      "application/vnd.jupyter.widget-view+json": {
       "version_major": 2,
       "version_minor": 0,
       "model_id": "3d638dfe0b8d45828d7470ebf538fd8f"
      }
     },
     "metadata": {},
     "output_type": "display_data"
    },
    {
     "data": {
      "text/plain": "Creating CSV from Arrow format:   0%|          | 0/5 [00:00<?, ?ba/s]",
      "application/vnd.jupyter.widget-view+json": {
       "version_major": 2,
       "version_minor": 0,
       "model_id": "a13e4c3d956c49318529b8fdcef341ca"
      }
     },
     "metadata": {},
     "output_type": "display_data"
    },
    {
     "data": {
      "text/plain": "184067167"
     },
     "execution_count": 9,
     "metadata": {},
     "output_type": "execute_result"
    }
   ],
   "source": [
    "three_split_dataset.to_csv(\"three-split-dataset.csv\")\n",
    "two_split_dataset.to_csv(\"two-split-dataset.csv\")"
   ],
   "metadata": {
    "collapsed": false,
    "ExecuteTime": {
     "end_time": "2023-06-27T20:52:45.253152500Z",
     "start_time": "2023-06-27T20:52:28.330861300Z"
    }
   }
  },
  {
   "cell_type": "markdown",
   "source": [
    "#### creating splits and uploaded to huggingface datasets for persistency (never used this again)"
   ],
   "metadata": {
    "collapsed": false
   }
  },
  {
   "cell_type": "code",
   "execution_count": 19,
   "outputs": [
    {
     "name": "stdout",
     "text": [
      "DatasetDict({\n",
      "    three: Dataset({\n",
      "        features: ['id', 'court', 'file_number', 'date', 'type', 'content', 'tenor', 'facts', 'reasoning'],\n",
      "        num_rows: 2828\n",
      "    })\n",
      "    two: Dataset({\n",
      "        features: ['id', 'court', 'file_number', 'date', 'type', 'content', 'tenor', 'reasoning', 'facts'],\n",
      "        num_rows: 4954\n",
      "    })\n",
      "})\n"
     ],
     "output_type": "stream"
    }
   ],
   "source": [
    "openlegaldata_dataset = ds.DatasetDict({\"three\": three_split_dataset, \"two\": two_split_dataset})\n",
    "print(openlegaldata_dataset)"
   ],
   "metadata": {
    "collapsed": false
   }
  },
  {
   "cell_type": "markdown",
   "source": [
    "#### creating test train split and upload to huggingface for usage in prediction"
   ],
   "metadata": {
    "collapsed": false
   }
  },
  {
   "cell_type": "code",
   "execution_count": 18,
   "outputs": [
    {
     "name": "stdout",
     "text": [
      "DatasetDict({\n",
      "    train: Dataset({\n",
      "        features: ['id', 'court', 'file_number', 'date', 'type', 'content', 'tenor', 'facts', 'reasoning'],\n",
      "        num_rows: 2686\n",
      "    })\n",
      "    test: Dataset({\n",
      "        features: ['id', 'court', 'file_number', 'date', 'type', 'content', 'tenor', 'facts', 'reasoning'],\n",
      "        num_rows: 142\n",
      "    })\n",
      "})\n"
     ],
     "output_type": "stream"
    }
   ],
   "source": [
    "legalis_dataset = three_split_dataset.train_test_split(test_size=0.05)\n",
    "print(legalis_dataset)"
   ],
   "metadata": {
    "collapsed": false
   }
  },
  {
   "cell_type": "markdown",
   "source": [
    "#### uploading new dataset into different repository"
   ],
   "metadata": {
    "collapsed": false
   }
  },
  {
   "cell_type": "code",
   "source": [
    "#uploading new dataset into different repository\n",
    "openlegaldata_dataset.push_to_hub(\"LennardZuendorf/openlegaldata-processed\", token=os.environ['hub_token'])\n",
    "legalis_dataset.push_to_hub(\"LennardZuendorf/legalis\", token=os.environ['hub_token'])"
   ],
   "execution_count": 20,
   "outputs": [
    {
     "name": "stderr",
     "text": [
      "Pushing split three to the Hub.\n",
      "Pushing split two to the Hub.\n",
      "Pushing split train to the Hub.\n",
      "Pushing split test to the Hub.\n"
     ],
     "output_type": "stream"
    },
    {
     "data": {
      "application/vnd.jupyter.widget-view+json": {
       "version_major": 2,
       "version_minor": 0,
       "model_id": "1c992c25c56c4240ab60f7c2af790489"
      }
     },
     "metadata": {
      "application/vnd.jupyter.widget-view+json": {
       "datalore": {
        "widget_id": "WsuM2mv6TtCGoUmbJnrkLD"
       }
      }
     },
     "output_type": "display_data"
    },
    {
     "data": {
      "application/vnd.jupyter.widget-view+json": {
       "version_major": 2,
       "version_minor": 0,
       "model_id": "8e9837e88089405592da976b3496823b"
      }
     },
     "metadata": {
      "application/vnd.jupyter.widget-view+json": {
       "datalore": {
        "widget_id": "kUdf0Er5MUuBSbFcY6PpCF"
       }
      }
     },
     "output_type": "display_data"
    },
    {
     "data": {
      "application/vnd.jupyter.widget-view+json": {
       "version_major": 2,
       "version_minor": 0,
       "model_id": "045c35dbcf284657932caf41ff52ca6b"
      }
     },
     "metadata": {
      "application/vnd.jupyter.widget-view+json": {
       "datalore": {
        "widget_id": "D94jsz4AjzmlT7oyUEtRgi"
       }
      }
     },
     "output_type": "display_data"
    },
    {
     "data": {
      "application/vnd.jupyter.widget-view+json": {
       "version_major": 2,
       "version_minor": 0,
       "model_id": "d6b4a6ce256040b0a4920c8fef7d78bb"
      }
     },
     "metadata": {
      "application/vnd.jupyter.widget-view+json": {
       "datalore": {
        "widget_id": "hrlvZ29NLQbhqyOkHEmg41"
       }
      }
     },
     "output_type": "display_data"
    },
    {
     "data": {
      "application/vnd.jupyter.widget-view+json": {
       "version_major": 2,
       "version_minor": 0,
       "model_id": "12c1c83811af4463be66d8e96c009f51"
      }
     },
     "metadata": {
      "application/vnd.jupyter.widget-view+json": {
       "datalore": {
        "widget_id": "sDPr8lPahBeXCGbucS78xv"
       }
      }
     },
     "output_type": "display_data"
    },
    {
     "data": {
      "application/vnd.jupyter.widget-view+json": {
       "version_major": 2,
       "version_minor": 0,
       "model_id": "b54de55d7fda4f75ae7b236c44c5376c"
      }
     },
     "metadata": {
      "application/vnd.jupyter.widget-view+json": {
       "datalore": {
        "widget_id": "gqNq8sKSETmXE4qqFdZiTu"
       }
      }
     },
     "output_type": "display_data"
    },
    {
     "data": {
      "application/vnd.jupyter.widget-view+json": {
       "version_major": 2,
       "version_minor": 0,
       "model_id": "346a0410b3a24cc4b1ad2c3ae39783cc"
      }
     },
     "metadata": {
      "application/vnd.jupyter.widget-view+json": {
       "datalore": {
        "widget_id": "wMqJbhLWMpLRTnkeVO1FrC"
       }
      }
     },
     "output_type": "display_data"
    },
    {
     "data": {
      "application/vnd.jupyter.widget-view+json": {
       "version_major": 2,
       "version_minor": 0,
       "model_id": "b7512511458c4265ba76e28e02dc5d51"
      }
     },
     "metadata": {
      "application/vnd.jupyter.widget-view+json": {
       "datalore": {
        "widget_id": "mazzKE4TT24ahU9Xk3vUBf"
       }
      }
     },
     "output_type": "display_data"
    },
    {
     "data": {
      "application/vnd.jupyter.widget-view+json": {
       "version_major": 2,
       "version_minor": 0,
       "model_id": "d0e1ce1f8f404005a0b6ebd601738521"
      }
     },
     "metadata": {
      "application/vnd.jupyter.widget-view+json": {
       "datalore": {
        "widget_id": "AyHjqL9inRxt35w5fIm6qU"
       }
      }
     },
     "output_type": "display_data"
    },
    {
     "data": {
      "application/vnd.jupyter.widget-view+json": {
       "version_major": 2,
       "version_minor": 0,
       "model_id": "fe496e3a097744a98aa135fb01670164"
      }
     },
     "metadata": {
      "application/vnd.jupyter.widget-view+json": {
       "datalore": {
        "widget_id": "7UV8c92Mu7ac2d6uK4iGmZ"
       }
      }
     },
     "output_type": "display_data"
    },
    {
     "data": {
      "application/vnd.jupyter.widget-view+json": {
       "version_major": 2,
       "version_minor": 0,
       "model_id": "a8eb47878bf646e79707377c8e2feb84"
      }
     },
     "metadata": {
      "application/vnd.jupyter.widget-view+json": {
       "datalore": {
        "widget_id": "m094VfM6yR0Vb9rfOdp5tg"
       }
      }
     },
     "output_type": "display_data"
    },
    {
     "data": {
      "application/vnd.jupyter.widget-view+json": {
       "version_major": 2,
       "version_minor": 0,
       "model_id": "02bc8115707f49808072fb92ff77b443"
      }
     },
     "metadata": {
      "application/vnd.jupyter.widget-view+json": {
       "datalore": {
        "widget_id": "EyZGwY4pTW0RcbUILRcVbV"
       }
      }
     },
     "output_type": "display_data"
    },
    {
     "data": {
      "application/vnd.jupyter.widget-view+json": {
       "version_major": 2,
       "version_minor": 0,
       "model_id": "08411c52c34a4416a2ac4019e0361e03"
      }
     },
     "metadata": {
      "application/vnd.jupyter.widget-view+json": {
       "datalore": {
        "widget_id": "0coWvZcBKeGxXaS30KgfTu"
       }
      }
     },
     "output_type": "display_data"
    }
   ],
   "metadata": {
    "datalore": {
     "node_id": "DnDrAg3tubhj2LXmdD1Rri",
     "type": "CODE",
     "hide_input_from_viewers": true,
     "hide_output_from_viewers": true
    }
   }
  }
 ],
 "metadata": {
  "widgets": {
   "application/vnd.jupyter.widget-state+json": {
    "version_major": 2,
    "version_minor": 0,
    "state": {
     "84055608c27f42f0a18c7f1a06dfb049": {
      "model_name": "LayoutModel",
      "model_module": "@jupyter-widgets/base",
      "model_module_version": "1.2.0",
      "state": {}
     },
     "7acc173c12a341eca03fd9b191e8bc14": {
      "model_name": "DescriptionStyleModel",
      "model_module": "@jupyter-widgets/controls",
      "model_module_version": "1.5.0",
      "state": {
       "description_width": ""
      }
     },
     "5fca9dc29bc34e0ca94fcb6ceaae2c64": {
      "model_name": "HTMLModel",
      "model_module": "@jupyter-widgets/controls",
      "model_module_version": "1.5.0",
      "state": {
       "layout": "IPY_MODEL_84055608c27f42f0a18c7f1a06dfb049",
       "style": "IPY_MODEL_7acc173c12a341eca03fd9b191e8bc14",
       "value": "Map"
      }
     },
     "8fda87e9a489445ab9c8a9afff16eae7": {
      "model_name": "LayoutModel",
      "model_module": "@jupyter-widgets/base",
      "model_module_version": "1.2.0",
      "state": {}
     },
     "c27ceb7c55314cdb80625de976d86c12": {
      "model_name": "ProgressStyleModel",
      "model_module": "@jupyter-widgets/controls",
      "model_module_version": "1.5.0",
      "state": {
       "description_width": ""
      }
     },
     "40b95a0f5fa34a6b8c48707cfaaf1e83": {
      "model_name": "FloatProgressModel",
      "model_module": "@jupyter-widgets/controls",
      "model_module_version": "1.5.0",
      "state": {
       "layout": "IPY_MODEL_8fda87e9a489445ab9c8a9afff16eae7",
       "max": 86095,
       "style": "IPY_MODEL_c27ceb7c55314cdb80625de976d86c12"
      }
     },
     "428ec6ed35c34bca9e50727dfe4e89cd": {
      "model_name": "LayoutModel",
      "model_module": "@jupyter-widgets/base",
      "model_module_version": "1.2.0",
      "state": {}
     },
     "1f541bedbaed43c88e5eb6ad2fd7d19c": {
      "model_name": "DescriptionStyleModel",
      "model_module": "@jupyter-widgets/controls",
      "model_module_version": "1.5.0",
      "state": {
       "description_width": ""
      }
     },
     "569837c38e974e8f80e1390cfa769e8a": {
      "model_name": "HTMLModel",
      "model_module": "@jupyter-widgets/controls",
      "model_module_version": "1.5.0",
      "state": {
       "layout": "IPY_MODEL_428ec6ed35c34bca9e50727dfe4e89cd",
       "style": "IPY_MODEL_1f541bedbaed43c88e5eb6ad2fd7d19c"
      }
     },
     "76f8017d59464a8c9a1bb878c6a05a3f": {
      "model_name": "LayoutModel",
      "model_module": "@jupyter-widgets/base",
      "model_module_version": "1.2.0",
      "state": {}
     },
     "ab2e78ecb67e493db27c70f35f9931f3": {
      "model_name": "HBoxModel",
      "model_module": "@jupyter-widgets/controls",
      "model_module_version": "1.5.0",
      "state": {
       "children": [
        "IPY_MODEL_5fca9dc29bc34e0ca94fcb6ceaae2c64",
        "IPY_MODEL_40b95a0f5fa34a6b8c48707cfaaf1e83",
        "IPY_MODEL_569837c38e974e8f80e1390cfa769e8a"
       ],
       "layout": "IPY_MODEL_76f8017d59464a8c9a1bb878c6a05a3f"
      }
     },
     "3c4a7eee12274b2c93e6d5d35d6c5b0b": {
      "model_name": "LayoutModel",
      "model_module": "@jupyter-widgets/base",
      "model_module_version": "1.2.0",
      "state": {}
     },
     "2f7c56dabb404365a4eb750373a1fa2e": {
      "model_name": "DescriptionStyleModel",
      "model_module": "@jupyter-widgets/controls",
      "model_module_version": "1.5.0",
      "state": {
       "description_width": ""
      }
     },
     "5d47a345e96041dba87a2ba9cebc152c": {
      "model_name": "HTMLModel",
      "model_module": "@jupyter-widgets/controls",
      "model_module_version": "1.5.0",
      "state": {
       "layout": "IPY_MODEL_3c4a7eee12274b2c93e6d5d35d6c5b0b",
       "style": "IPY_MODEL_2f7c56dabb404365a4eb750373a1fa2e",
       "value": "Pushing dataset shards to the dataset hub: 100%"
      }
     },
     "826d556a7d27438cab1cb5b627285088": {
      "model_name": "LayoutModel",
      "model_module": "@jupyter-widgets/base",
      "model_module_version": "1.2.0",
      "state": {}
     },
     "1193d569ea1647ee81d8031f85a527e0": {
      "model_name": "ProgressStyleModel",
      "model_module": "@jupyter-widgets/controls",
      "model_module_version": "1.5.0",
      "state": {
       "description_width": ""
      }
     },
     "4c416cd24b774b4b80830883dd528621": {
      "model_name": "FloatProgressModel",
      "model_module": "@jupyter-widgets/controls",
      "model_module_version": "1.5.0",
      "state": {
       "bar_style": "success",
       "layout": "IPY_MODEL_826d556a7d27438cab1cb5b627285088",
       "max": 1,
       "style": "IPY_MODEL_1193d569ea1647ee81d8031f85a527e0",
       "value": 1
      }
     },
     "9aaac063fbf0431fa42a6ae0f04019eb": {
      "model_name": "LayoutModel",
      "model_module": "@jupyter-widgets/base",
      "model_module_version": "1.2.0",
      "state": {}
     },
     "a1e9a345bd1b4bfd80c26ec95cc4de35": {
      "model_name": "DescriptionStyleModel",
      "model_module": "@jupyter-widgets/controls",
      "model_module_version": "1.5.0",
      "state": {
       "description_width": ""
      }
     },
     "f4584b54af6548c8b48f26dafbfdd19f": {
      "model_name": "HTMLModel",
      "model_module": "@jupyter-widgets/controls",
      "model_module_version": "1.5.0",
      "state": {
       "layout": "IPY_MODEL_9aaac063fbf0431fa42a6ae0f04019eb",
       "style": "IPY_MODEL_a1e9a345bd1b4bfd80c26ec95cc4de35",
       "value": " 1/1 [00:10&lt;00:00, 10.80s/it]"
      }
     },
     "0f57761f9c494347b421dd65af130c61": {
      "model_name": "LayoutModel",
      "model_module": "@jupyter-widgets/base",
      "model_module_version": "1.2.0",
      "state": {}
     },
     "1c992c25c56c4240ab60f7c2af790489": {
      "model_name": "HBoxModel",
      "model_module": "@jupyter-widgets/controls",
      "model_module_version": "1.5.0",
      "state": {
       "children": [
        "IPY_MODEL_5d47a345e96041dba87a2ba9cebc152c",
        "IPY_MODEL_4c416cd24b774b4b80830883dd528621",
        "IPY_MODEL_f4584b54af6548c8b48f26dafbfdd19f"
       ],
       "layout": "IPY_MODEL_0f57761f9c494347b421dd65af130c61"
      }
     },
     "8a83c78d67864de7af0982166022e46e": {
      "model_name": "LayoutModel",
      "model_module": "@jupyter-widgets/base",
      "model_module_version": "1.2.0",
      "state": {}
     },
     "17c2ac88afa743d4baffb1347085c747": {
      "model_name": "DescriptionStyleModel",
      "model_module": "@jupyter-widgets/controls",
      "model_module_version": "1.5.0",
      "state": {
       "description_width": ""
      }
     },
     "c7a28f8392ca48a89907577e69e1f3c2": {
      "model_name": "HTMLModel",
      "model_module": "@jupyter-widgets/controls",
      "model_module_version": "1.5.0",
      "state": {
       "layout": "IPY_MODEL_8a83c78d67864de7af0982166022e46e",
       "style": "IPY_MODEL_17c2ac88afa743d4baffb1347085c747",
       "value": "Creating parquet from Arrow format: 100%"
      }
     },
     "f0a343df277247f19600f8a8add17880": {
      "model_name": "LayoutModel",
      "model_module": "@jupyter-widgets/base",
      "model_module_version": "1.2.0",
      "state": {}
     },
     "3675ca23bcbd4440aac342c69387404c": {
      "model_name": "ProgressStyleModel",
      "model_module": "@jupyter-widgets/controls",
      "model_module_version": "1.5.0",
      "state": {
       "description_width": ""
      }
     },
     "16463af524924d4987caa2750584222c": {
      "model_name": "FloatProgressModel",
      "model_module": "@jupyter-widgets/controls",
      "model_module_version": "1.5.0",
      "state": {
       "bar_style": "success",
       "layout": "IPY_MODEL_f0a343df277247f19600f8a8add17880",
       "max": 3,
       "style": "IPY_MODEL_3675ca23bcbd4440aac342c69387404c",
       "value": 3
      }
     },
     "2a6a82f05b4b43459655c4ed3f5b1dfa": {
      "model_name": "LayoutModel",
      "model_module": "@jupyter-widgets/base",
      "model_module_version": "1.2.0",
      "state": {}
     },
     "3adb161975eb4164a784c827a1355762": {
      "model_name": "DescriptionStyleModel",
      "model_module": "@jupyter-widgets/controls",
      "model_module_version": "1.5.0",
      "state": {
       "description_width": ""
      }
     },
     "2de18865ac024e29ac1999f0a286c9a8": {
      "model_name": "HTMLModel",
      "model_module": "@jupyter-widgets/controls",
      "model_module_version": "1.5.0",
      "state": {
       "layout": "IPY_MODEL_2a6a82f05b4b43459655c4ed3f5b1dfa",
       "style": "IPY_MODEL_3adb161975eb4164a784c827a1355762",
       "value": " 3/3 [00:00&lt;00:00,  6.37ba/s]"
      }
     },
     "242a527bcea840ef903abc60b3454e2f": {
      "model_name": "LayoutModel",
      "model_module": "@jupyter-widgets/base",
      "model_module_version": "1.2.0",
      "state": {}
     },
     "8e9837e88089405592da976b3496823b": {
      "model_name": "HBoxModel",
      "model_module": "@jupyter-widgets/controls",
      "model_module_version": "1.5.0",
      "state": {
       "children": [
        "IPY_MODEL_c7a28f8392ca48a89907577e69e1f3c2",
        "IPY_MODEL_16463af524924d4987caa2750584222c",
        "IPY_MODEL_2de18865ac024e29ac1999f0a286c9a8"
       ],
       "layout": "IPY_MODEL_242a527bcea840ef903abc60b3454e2f"
      }
     },
     "b782c95edb544a45b94674604e2be80f": {
      "model_name": "LayoutModel",
      "model_module": "@jupyter-widgets/base",
      "model_module_version": "1.2.0",
      "state": {}
     },
     "bc2ce5b212f14572a710da83b98edae6": {
      "model_name": "DescriptionStyleModel",
      "model_module": "@jupyter-widgets/controls",
      "model_module_version": "1.5.0",
      "state": {
       "description_width": ""
      }
     },
     "4d2d2850fc3d436e87fa99d078475d36": {
      "model_name": "HTMLModel",
      "model_module": "@jupyter-widgets/controls",
      "model_module_version": "1.5.0",
      "state": {
       "layout": "IPY_MODEL_b782c95edb544a45b94674604e2be80f",
       "style": "IPY_MODEL_bc2ce5b212f14572a710da83b98edae6",
       "value": "Pushing dataset shards to the dataset hub: 100%"
      }
     },
     "0765b677e9a74479b94f38cd7f4fb48d": {
      "model_name": "LayoutModel",
      "model_module": "@jupyter-widgets/base",
      "model_module_version": "1.2.0",
      "state": {}
     },
     "4a9e803492a248c3a01b943c2e0cfe4c": {
      "model_name": "ProgressStyleModel",
      "model_module": "@jupyter-widgets/controls",
      "model_module_version": "1.5.0",
      "state": {
       "description_width": ""
      }
     },
     "a28b02560caa4e2cb0b930edcd8d1ecf": {
      "model_name": "FloatProgressModel",
      "model_module": "@jupyter-widgets/controls",
      "model_module_version": "1.5.0",
      "state": {
       "bar_style": "success",
       "layout": "IPY_MODEL_0765b677e9a74479b94f38cd7f4fb48d",
       "max": 1,
       "style": "IPY_MODEL_4a9e803492a248c3a01b943c2e0cfe4c",
       "value": 1
      }
     },
     "94113c37ddb6453f8bc04f3ac9229fb4": {
      "model_name": "LayoutModel",
      "model_module": "@jupyter-widgets/base",
      "model_module_version": "1.2.0",
      "state": {}
     },
     "40e065ca1bc5469c9033dea83810d42e": {
      "model_name": "DescriptionStyleModel",
      "model_module": "@jupyter-widgets/controls",
      "model_module_version": "1.5.0",
      "state": {
       "description_width": ""
      }
     },
     "6cca4fd463254865bafdf2611e1617c2": {
      "model_name": "HTMLModel",
      "model_module": "@jupyter-widgets/controls",
      "model_module_version": "1.5.0",
      "state": {
       "layout": "IPY_MODEL_94113c37ddb6453f8bc04f3ac9229fb4",
       "style": "IPY_MODEL_40e065ca1bc5469c9033dea83810d42e",
       "value": " 1/1 [00:58&lt;00:00, 58.09s/it]"
      }
     },
     "99b57e30b2074a6292fe42f81692c7ce": {
      "model_name": "LayoutModel",
      "model_module": "@jupyter-widgets/base",
      "model_module_version": "1.2.0",
      "state": {}
     },
     "045c35dbcf284657932caf41ff52ca6b": {
      "model_name": "HBoxModel",
      "model_module": "@jupyter-widgets/controls",
      "model_module_version": "1.5.0",
      "state": {
       "children": [
        "IPY_MODEL_4d2d2850fc3d436e87fa99d078475d36",
        "IPY_MODEL_a28b02560caa4e2cb0b930edcd8d1ecf",
        "IPY_MODEL_6cca4fd463254865bafdf2611e1617c2"
       ],
       "layout": "IPY_MODEL_99b57e30b2074a6292fe42f81692c7ce"
      }
     },
     "85e7a9b0f3b449b38cbaf21f06ba6a8d": {
      "model_name": "LayoutModel",
      "model_module": "@jupyter-widgets/base",
      "model_module_version": "1.2.0",
      "state": {}
     },
     "bca11d9e3c9c4e34948fc5b0711093f9": {
      "model_name": "DescriptionStyleModel",
      "model_module": "@jupyter-widgets/controls",
      "model_module_version": "1.5.0",
      "state": {
       "description_width": ""
      }
     },
     "6c4ffb5bcd644efe8a0d0f50ac18c48c": {
      "model_name": "HTMLModel",
      "model_module": "@jupyter-widgets/controls",
      "model_module_version": "1.5.0",
      "state": {
       "layout": "IPY_MODEL_85e7a9b0f3b449b38cbaf21f06ba6a8d",
       "style": "IPY_MODEL_bca11d9e3c9c4e34948fc5b0711093f9",
       "value": "Creating parquet from Arrow format: 100%"
      }
     },
     "380a4111f4124c548d4c0aaeeb763a49": {
      "model_name": "LayoutModel",
      "model_module": "@jupyter-widgets/base",
      "model_module_version": "1.2.0",
      "state": {}
     },
     "7e3fa6e6f64646938071b4f14a98c72e": {
      "model_name": "ProgressStyleModel",
      "model_module": "@jupyter-widgets/controls",
      "model_module_version": "1.5.0",
      "state": {
       "description_width": ""
      }
     },
     "885db20876a24a4ca6ad1fdb45b55b25": {
      "model_name": "FloatProgressModel",
      "model_module": "@jupyter-widgets/controls",
      "model_module_version": "1.5.0",
      "state": {
       "bar_style": "success",
       "layout": "IPY_MODEL_380a4111f4124c548d4c0aaeeb763a49",
       "max": 5,
       "style": "IPY_MODEL_7e3fa6e6f64646938071b4f14a98c72e",
       "value": 5
      }
     },
     "f24b487fd91141b7bda6000bf9523cca": {
      "model_name": "LayoutModel",
      "model_module": "@jupyter-widgets/base",
      "model_module_version": "1.2.0",
      "state": {}
     },
     "78fba433e3c34f2383cf747a8f4240f8": {
      "model_name": "DescriptionStyleModel",
      "model_module": "@jupyter-widgets/controls",
      "model_module_version": "1.5.0",
      "state": {
       "description_width": ""
      }
     },
     "84e0efdcec28413e88da158c9829b441": {
      "model_name": "HTMLModel",
      "model_module": "@jupyter-widgets/controls",
      "model_module_version": "1.5.0",
      "state": {
       "layout": "IPY_MODEL_f24b487fd91141b7bda6000bf9523cca",
       "style": "IPY_MODEL_78fba433e3c34f2383cf747a8f4240f8",
       "value": " 5/5 [00:00&lt;00:00,  8.84ba/s]"
      }
     },
     "c7d39988dacd4529b42ba8e0a9d18971": {
      "model_name": "LayoutModel",
      "model_module": "@jupyter-widgets/base",
      "model_module_version": "1.2.0",
      "state": {}
     },
     "d6b4a6ce256040b0a4920c8fef7d78bb": {
      "model_name": "HBoxModel",
      "model_module": "@jupyter-widgets/controls",
      "model_module_version": "1.5.0",
      "state": {
       "children": [
        "IPY_MODEL_6c4ffb5bcd644efe8a0d0f50ac18c48c",
        "IPY_MODEL_885db20876a24a4ca6ad1fdb45b55b25",
        "IPY_MODEL_84e0efdcec28413e88da158c9829b441"
       ],
       "layout": "IPY_MODEL_c7d39988dacd4529b42ba8e0a9d18971"
      }
     },
     "ba70953998a64415b70571c9517eeee5": {
      "model_name": "LayoutModel",
      "model_module": "@jupyter-widgets/base",
      "model_module_version": "1.2.0",
      "state": {}
     },
     "d272d9814ad34f599f13c08c2cfb28a9": {
      "model_name": "DescriptionStyleModel",
      "model_module": "@jupyter-widgets/controls",
      "model_module_version": "1.5.0",
      "state": {
       "description_width": ""
      }
     },
     "85f8fec0021247ffa47dc6d730a29d53": {
      "model_name": "HTMLModel",
      "model_module": "@jupyter-widgets/controls",
      "model_module_version": "1.5.0",
      "state": {
       "layout": "IPY_MODEL_ba70953998a64415b70571c9517eeee5",
       "style": "IPY_MODEL_d272d9814ad34f599f13c08c2cfb28a9",
       "value": "Upload 1 LFS files: 100%"
      }
     },
     "ec504bfd21cb4ab7aed53193efd57134": {
      "model_name": "LayoutModel",
      "model_module": "@jupyter-widgets/base",
      "model_module_version": "1.2.0",
      "state": {}
     },
     "19fdd2f26930473aadd3de833d8f305a": {
      "model_name": "ProgressStyleModel",
      "model_module": "@jupyter-widgets/controls",
      "model_module_version": "1.5.0",
      "state": {
       "description_width": ""
      }
     },
     "091c7a9de9484b7c87d18f1df47bd9d9": {
      "model_name": "FloatProgressModel",
      "model_module": "@jupyter-widgets/controls",
      "model_module_version": "1.5.0",
      "state": {
       "bar_style": "success",
       "layout": "IPY_MODEL_ec504bfd21cb4ab7aed53193efd57134",
       "max": 1,
       "style": "IPY_MODEL_19fdd2f26930473aadd3de833d8f305a",
       "value": 1
      }
     },
     "000d4137035c42fd8c4be9386d2937ea": {
      "model_name": "LayoutModel",
      "model_module": "@jupyter-widgets/base",
      "model_module_version": "1.2.0",
      "state": {}
     },
     "091f20908e4b40f380605317384aa0e6": {
      "model_name": "DescriptionStyleModel",
      "model_module": "@jupyter-widgets/controls",
      "model_module_version": "1.5.0",
      "state": {
       "description_width": ""
      }
     },
     "0a3febfb197e4d4fbb97d0a6632dba13": {
      "model_name": "HTMLModel",
      "model_module": "@jupyter-widgets/controls",
      "model_module_version": "1.5.0",
      "state": {
       "layout": "IPY_MODEL_000d4137035c42fd8c4be9386d2937ea",
       "style": "IPY_MODEL_091f20908e4b40f380605317384aa0e6",
       "value": " 1/1 [00:48&lt;00:00, 48.04s/it]"
      }
     },
     "5f79e77a9d4b44f7a24c32856b346a82": {
      "model_name": "LayoutModel",
      "model_module": "@jupyter-widgets/base",
      "model_module_version": "1.2.0",
      "state": {}
     },
     "12c1c83811af4463be66d8e96c009f51": {
      "model_name": "HBoxModel",
      "model_module": "@jupyter-widgets/controls",
      "model_module_version": "1.5.0",
      "state": {
       "children": [
        "IPY_MODEL_85f8fec0021247ffa47dc6d730a29d53",
        "IPY_MODEL_091c7a9de9484b7c87d18f1df47bd9d9",
        "IPY_MODEL_0a3febfb197e4d4fbb97d0a6632dba13"
       ],
       "layout": "IPY_MODEL_5f79e77a9d4b44f7a24c32856b346a82"
      }
     },
     "5cd8ceabf312421d988a2738a7bf31e1": {
      "model_name": "LayoutModel",
      "model_module": "@jupyter-widgets/base",
      "model_module_version": "1.2.0",
      "state": {}
     },
     "8068774777f747a7b4a6cbfc074156f6": {
      "model_name": "DescriptionStyleModel",
      "model_module": "@jupyter-widgets/controls",
      "model_module_version": "1.5.0",
      "state": {
       "description_width": ""
      }
     },
     "de0c37371b1f42e59a2a3fbe22c592c9": {
      "model_name": "HTMLModel",
      "model_module": "@jupyter-widgets/controls",
      "model_module_version": "1.5.0",
      "state": {
       "layout": "IPY_MODEL_5cd8ceabf312421d988a2738a7bf31e1",
       "style": "IPY_MODEL_8068774777f747a7b4a6cbfc074156f6",
       "value": "Downloading metadata: 100%"
      }
     },
     "789789244728439c9ad7bd0b67fd83ec": {
      "model_name": "LayoutModel",
      "model_module": "@jupyter-widgets/base",
      "model_module_version": "1.2.0",
      "state": {}
     },
     "3ded82a62ded43cd9621556251ff0d72": {
      "model_name": "ProgressStyleModel",
      "model_module": "@jupyter-widgets/controls",
      "model_module_version": "1.5.0",
      "state": {
       "description_width": ""
      }
     },
     "4731b38404f848eab8dba4b090becc95": {
      "model_name": "FloatProgressModel",
      "model_module": "@jupyter-widgets/controls",
      "model_module_version": "1.5.0",
      "state": {
       "bar_style": "success",
       "layout": "IPY_MODEL_789789244728439c9ad7bd0b67fd83ec",
       "max": 21,
       "style": "IPY_MODEL_3ded82a62ded43cd9621556251ff0d72",
       "value": 21
      }
     },
     "323ffd96df994c8496bfc54adfb38524": {
      "model_name": "LayoutModel",
      "model_module": "@jupyter-widgets/base",
      "model_module_version": "1.2.0",
      "state": {}
     },
     "e2b1c12ebccd43d5a17404964f624c5b": {
      "model_name": "DescriptionStyleModel",
      "model_module": "@jupyter-widgets/controls",
      "model_module_version": "1.5.0",
      "state": {
       "description_width": ""
      }
     },
     "6c55551efb484032bcb7958a8736731f": {
      "model_name": "HTMLModel",
      "model_module": "@jupyter-widgets/controls",
      "model_module_version": "1.5.0",
      "state": {
       "layout": "IPY_MODEL_323ffd96df994c8496bfc54adfb38524",
       "style": "IPY_MODEL_e2b1c12ebccd43d5a17404964f624c5b",
       "value": " 21.0/21.0 [00:00&lt;00:00, 2.33kB/s]"
      }
     },
     "c8010e2c94db4b3fa6633e84f334e2b6": {
      "model_name": "LayoutModel",
      "model_module": "@jupyter-widgets/base",
      "model_module_version": "1.2.0",
      "state": {}
     },
     "b54de55d7fda4f75ae7b236c44c5376c": {
      "model_name": "HBoxModel",
      "model_module": "@jupyter-widgets/controls",
      "model_module_version": "1.5.0",
      "state": {
       "children": [
        "IPY_MODEL_de0c37371b1f42e59a2a3fbe22c592c9",
        "IPY_MODEL_4731b38404f848eab8dba4b090becc95",
        "IPY_MODEL_6c55551efb484032bcb7958a8736731f"
       ],
       "layout": "IPY_MODEL_c8010e2c94db4b3fa6633e84f334e2b6"
      }
     },
     "395721c9168a4358a6a71ec26f808ae1": {
      "model_name": "LayoutModel",
      "model_module": "@jupyter-widgets/base",
      "model_module_version": "1.2.0",
      "state": {}
     },
     "433258045d44423d9be28884c8a2a190": {
      "model_name": "DescriptionStyleModel",
      "model_module": "@jupyter-widgets/controls",
      "model_module_version": "1.5.0",
      "state": {
       "description_width": ""
      }
     },
     "aa4058a7e41e41f98b941bb045b435e1": {
      "model_name": "HTMLModel",
      "model_module": "@jupyter-widgets/controls",
      "model_module_version": "1.5.0",
      "state": {
       "layout": "IPY_MODEL_395721c9168a4358a6a71ec26f808ae1",
       "style": "IPY_MODEL_433258045d44423d9be28884c8a2a190",
       "value": "Pushing dataset shards to the dataset hub: 100%"
      }
     },
     "a2eec81c521a40d8846fe6108211ab5c": {
      "model_name": "LayoutModel",
      "model_module": "@jupyter-widgets/base",
      "model_module_version": "1.2.0",
      "state": {}
     },
     "574182e30d22475cb48c1a6442de5963": {
      "model_name": "ProgressStyleModel",
      "model_module": "@jupyter-widgets/controls",
      "model_module_version": "1.5.0",
      "state": {
       "description_width": ""
      }
     },
     "5410bf09929643328dfc6a75fafc7d55": {
      "model_name": "FloatProgressModel",
      "model_module": "@jupyter-widgets/controls",
      "model_module_version": "1.5.0",
      "state": {
       "bar_style": "success",
       "layout": "IPY_MODEL_a2eec81c521a40d8846fe6108211ab5c",
       "max": 1,
       "style": "IPY_MODEL_574182e30d22475cb48c1a6442de5963",
       "value": 1
      }
     },
     "e5e512d992a846c2867d3c5da44bac2a": {
      "model_name": "LayoutModel",
      "model_module": "@jupyter-widgets/base",
      "model_module_version": "1.2.0",
      "state": {}
     },
     "43e420a050ba4d38a9ac3afbda475581": {
      "model_name": "DescriptionStyleModel",
      "model_module": "@jupyter-widgets/controls",
      "model_module_version": "1.5.0",
      "state": {
       "description_width": ""
      }
     },
     "361b375ad8434f0d9d83584c053826cb": {
      "model_name": "HTMLModel",
      "model_module": "@jupyter-widgets/controls",
      "model_module_version": "1.5.0",
      "state": {
       "layout": "IPY_MODEL_e5e512d992a846c2867d3c5da44bac2a",
       "style": "IPY_MODEL_43e420a050ba4d38a9ac3afbda475581",
       "value": " 1/1 [00:51&lt;00:00, 51.99s/it]"
      }
     },
     "60ba6d90702748d79faa487f116a8a37": {
      "model_name": "LayoutModel",
      "model_module": "@jupyter-widgets/base",
      "model_module_version": "1.2.0",
      "state": {}
     },
     "346a0410b3a24cc4b1ad2c3ae39783cc": {
      "model_name": "HBoxModel",
      "model_module": "@jupyter-widgets/controls",
      "model_module_version": "1.5.0",
      "state": {
       "children": [
        "IPY_MODEL_aa4058a7e41e41f98b941bb045b435e1",
        "IPY_MODEL_5410bf09929643328dfc6a75fafc7d55",
        "IPY_MODEL_361b375ad8434f0d9d83584c053826cb"
       ],
       "layout": "IPY_MODEL_60ba6d90702748d79faa487f116a8a37"
      }
     },
     "99735876fd424a8da69d4daeedb14c93": {
      "model_name": "LayoutModel",
      "model_module": "@jupyter-widgets/base",
      "model_module_version": "1.2.0",
      "state": {}
     },
     "e99a5c0fd3c94faebdd144826c541d2f": {
      "model_name": "DescriptionStyleModel",
      "model_module": "@jupyter-widgets/controls",
      "model_module_version": "1.5.0",
      "state": {
       "description_width": ""
      }
     },
     "138d272d1ff647a2a3105d97a04e03cc": {
      "model_name": "HTMLModel",
      "model_module": "@jupyter-widgets/controls",
      "model_module_version": "1.5.0",
      "state": {
       "layout": "IPY_MODEL_99735876fd424a8da69d4daeedb14c93",
       "style": "IPY_MODEL_e99a5c0fd3c94faebdd144826c541d2f",
       "value": "Creating parquet from Arrow format: 100%"
      }
     },
     "a78333895d90486e82dfe55bb94488f7": {
      "model_name": "LayoutModel",
      "model_module": "@jupyter-widgets/base",
      "model_module_version": "1.2.0",
      "state": {}
     },
     "8573145aeff84129ae3c5ae0bef07377": {
      "model_name": "ProgressStyleModel",
      "model_module": "@jupyter-widgets/controls",
      "model_module_version": "1.5.0",
      "state": {
       "description_width": ""
      }
     },
     "2251365015c1407983a8038bad5290bc": {
      "model_name": "FloatProgressModel",
      "model_module": "@jupyter-widgets/controls",
      "model_module_version": "1.5.0",
      "state": {
       "bar_style": "success",
       "layout": "IPY_MODEL_a78333895d90486e82dfe55bb94488f7",
       "max": 3,
       "style": "IPY_MODEL_8573145aeff84129ae3c5ae0bef07377",
       "value": 3
      }
     },
     "2789ac1577c541768b3443f04937581c": {
      "model_name": "LayoutModel",
      "model_module": "@jupyter-widgets/base",
      "model_module_version": "1.2.0",
      "state": {}
     },
     "af6bc5d2e91d4c3c866e93bd1ab36e16": {
      "model_name": "DescriptionStyleModel",
      "model_module": "@jupyter-widgets/controls",
      "model_module_version": "1.5.0",
      "state": {
       "description_width": ""
      }
     },
     "d5a7f356a3394f16ab9bb878db48085a": {
      "model_name": "HTMLModel",
      "model_module": "@jupyter-widgets/controls",
      "model_module_version": "1.5.0",
      "state": {
       "layout": "IPY_MODEL_2789ac1577c541768b3443f04937581c",
       "style": "IPY_MODEL_af6bc5d2e91d4c3c866e93bd1ab36e16",
       "value": " 3/3 [00:00&lt;00:00,  5.41ba/s]"
      }
     },
     "7f0e1711e56d4b75acf588a1a91e839e": {
      "model_name": "LayoutModel",
      "model_module": "@jupyter-widgets/base",
      "model_module_version": "1.2.0",
      "state": {}
     },
     "b7512511458c4265ba76e28e02dc5d51": {
      "model_name": "HBoxModel",
      "model_module": "@jupyter-widgets/controls",
      "model_module_version": "1.5.0",
      "state": {
       "children": [
        "IPY_MODEL_138d272d1ff647a2a3105d97a04e03cc",
        "IPY_MODEL_2251365015c1407983a8038bad5290bc",
        "IPY_MODEL_d5a7f356a3394f16ab9bb878db48085a"
       ],
       "layout": "IPY_MODEL_7f0e1711e56d4b75acf588a1a91e839e"
      }
     },
     "9e9fd511e85b4f5ba462c77d247fd731": {
      "model_name": "LayoutModel",
      "model_module": "@jupyter-widgets/base",
      "model_module_version": "1.2.0",
      "state": {}
     },
     "b1030422d5314c7c9496fe71ffce5f9f": {
      "model_name": "DescriptionStyleModel",
      "model_module": "@jupyter-widgets/controls",
      "model_module_version": "1.5.0",
      "state": {
       "description_width": ""
      }
     },
     "af77186c747c4333af20ebe292995844": {
      "model_name": "HTMLModel",
      "model_module": "@jupyter-widgets/controls",
      "model_module_version": "1.5.0",
      "state": {
       "layout": "IPY_MODEL_9e9fd511e85b4f5ba462c77d247fd731",
       "style": "IPY_MODEL_b1030422d5314c7c9496fe71ffce5f9f",
       "value": "Upload 1 LFS files: 100%"
      }
     },
     "1607881557894144b8b5e812623d73ec": {
      "model_name": "LayoutModel",
      "model_module": "@jupyter-widgets/base",
      "model_module_version": "1.2.0",
      "state": {}
     },
     "99928da6e4cb4d8da4344e2f4dcfec7c": {
      "model_name": "ProgressStyleModel",
      "model_module": "@jupyter-widgets/controls",
      "model_module_version": "1.5.0",
      "state": {
       "description_width": ""
      }
     },
     "80dd55a5154545eeaa7a8e02a9e2ba8e": {
      "model_name": "FloatProgressModel",
      "model_module": "@jupyter-widgets/controls",
      "model_module_version": "1.5.0",
      "state": {
       "bar_style": "success",
       "layout": "IPY_MODEL_1607881557894144b8b5e812623d73ec",
       "max": 1,
       "style": "IPY_MODEL_99928da6e4cb4d8da4344e2f4dcfec7c",
       "value": 1
      }
     },
     "561c4e27f32447e5b84ac783b0f40ddc": {
      "model_name": "LayoutModel",
      "model_module": "@jupyter-widgets/base",
      "model_module_version": "1.2.0",
      "state": {}
     },
     "b6ec7acd47084554874976d5bc398c78": {
      "model_name": "DescriptionStyleModel",
      "model_module": "@jupyter-widgets/controls",
      "model_module_version": "1.5.0",
      "state": {
       "description_width": ""
      }
     },
     "9e3a3463da0a4dfa81507f54f175825d": {
      "model_name": "HTMLModel",
      "model_module": "@jupyter-widgets/controls",
      "model_module_version": "1.5.0",
      "state": {
       "layout": "IPY_MODEL_561c4e27f32447e5b84ac783b0f40ddc",
       "style": "IPY_MODEL_b6ec7acd47084554874976d5bc398c78",
       "value": " 1/1 [00:43&lt;00:00, 43.34s/it]"
      }
     },
     "f09241fb7b76419780b11bacf368e03c": {
      "model_name": "LayoutModel",
      "model_module": "@jupyter-widgets/base",
      "model_module_version": "1.2.0",
      "state": {}
     },
     "d0e1ce1f8f404005a0b6ebd601738521": {
      "model_name": "HBoxModel",
      "model_module": "@jupyter-widgets/controls",
      "model_module_version": "1.5.0",
      "state": {
       "children": [
        "IPY_MODEL_af77186c747c4333af20ebe292995844",
        "IPY_MODEL_80dd55a5154545eeaa7a8e02a9e2ba8e",
        "IPY_MODEL_9e3a3463da0a4dfa81507f54f175825d"
       ],
       "layout": "IPY_MODEL_f09241fb7b76419780b11bacf368e03c"
      }
     },
     "16d553fe7dfe4c2abfbfeb0729eeda63": {
      "model_name": "LayoutModel",
      "model_module": "@jupyter-widgets/base",
      "model_module_version": "1.2.0",
      "state": {}
     },
     "87be8643439c4267b9feebdbf8e41a3c": {
      "model_name": "DescriptionStyleModel",
      "model_module": "@jupyter-widgets/controls",
      "model_module_version": "1.5.0",
      "state": {
       "description_width": ""
      }
     },
     "e1c0b30f36314726968cdd1652482213": {
      "model_name": "HTMLModel",
      "model_module": "@jupyter-widgets/controls",
      "model_module_version": "1.5.0",
      "state": {
       "layout": "IPY_MODEL_16d553fe7dfe4c2abfbfeb0729eeda63",
       "style": "IPY_MODEL_87be8643439c4267b9feebdbf8e41a3c",
       "value": "Pushing dataset shards to the dataset hub: 100%"
      }
     },
     "f0f712ce7d4d4be9baaec379d53b63aa": {
      "model_name": "LayoutModel",
      "model_module": "@jupyter-widgets/base",
      "model_module_version": "1.2.0",
      "state": {}
     },
     "be49c0d90bd24ac3bd2702436504b085": {
      "model_name": "ProgressStyleModel",
      "model_module": "@jupyter-widgets/controls",
      "model_module_version": "1.5.0",
      "state": {
       "description_width": ""
      }
     },
     "a16b348e2c2448038e66e9756c804e59": {
      "model_name": "FloatProgressModel",
      "model_module": "@jupyter-widgets/controls",
      "model_module_version": "1.5.0",
      "state": {
       "bar_style": "success",
       "layout": "IPY_MODEL_f0f712ce7d4d4be9baaec379d53b63aa",
       "max": 1,
       "style": "IPY_MODEL_be49c0d90bd24ac3bd2702436504b085",
       "value": 1
      }
     },
     "98dd343d5a9548b0ab7f361bbaa2c800": {
      "model_name": "LayoutModel",
      "model_module": "@jupyter-widgets/base",
      "model_module_version": "1.2.0",
      "state": {}
     },
     "4f94c2c0878a4a38b5522177a5e65b27": {
      "model_name": "DescriptionStyleModel",
      "model_module": "@jupyter-widgets/controls",
      "model_module_version": "1.5.0",
      "state": {
       "description_width": ""
      }
     },
     "ebacb1b5d01a49e385aa42f49a13a87e": {
      "model_name": "HTMLModel",
      "model_module": "@jupyter-widgets/controls",
      "model_module_version": "1.5.0",
      "state": {
       "layout": "IPY_MODEL_98dd343d5a9548b0ab7f361bbaa2c800",
       "style": "IPY_MODEL_4f94c2c0878a4a38b5522177a5e65b27",
       "value": " 1/1 [00:17&lt;00:00, 17.73s/it]"
      }
     },
     "b848ca5d10fa4894b7f70ef3658275f4": {
      "model_name": "LayoutModel",
      "model_module": "@jupyter-widgets/base",
      "model_module_version": "1.2.0",
      "state": {}
     },
     "fe496e3a097744a98aa135fb01670164": {
      "model_name": "HBoxModel",
      "model_module": "@jupyter-widgets/controls",
      "model_module_version": "1.5.0",
      "state": {
       "children": [
        "IPY_MODEL_e1c0b30f36314726968cdd1652482213",
        "IPY_MODEL_a16b348e2c2448038e66e9756c804e59",
        "IPY_MODEL_ebacb1b5d01a49e385aa42f49a13a87e"
       ],
       "layout": "IPY_MODEL_b848ca5d10fa4894b7f70ef3658275f4"
      }
     },
     "ca35485b90274fb3b1bfe8753d46e50c": {
      "model_name": "LayoutModel",
      "model_module": "@jupyter-widgets/base",
      "model_module_version": "1.2.0",
      "state": {}
     },
     "e284b604b9f1495ca3a4e6f2327ca090": {
      "model_name": "DescriptionStyleModel",
      "model_module": "@jupyter-widgets/controls",
      "model_module_version": "1.5.0",
      "state": {
       "description_width": ""
      }
     },
     "e5c621b2de6347eaba92b97fdd70b70d": {
      "model_name": "HTMLModel",
      "model_module": "@jupyter-widgets/controls",
      "model_module_version": "1.5.0",
      "state": {
       "layout": "IPY_MODEL_ca35485b90274fb3b1bfe8753d46e50c",
       "style": "IPY_MODEL_e284b604b9f1495ca3a4e6f2327ca090",
       "value": "Creating parquet from Arrow format: 100%"
      }
     },
     "f509ef46f6a047e38dfc7a7892f74e4f": {
      "model_name": "LayoutModel",
      "model_module": "@jupyter-widgets/base",
      "model_module_version": "1.2.0",
      "state": {}
     },
     "980256821e254c5a9a7cb834c5095675": {
      "model_name": "ProgressStyleModel",
      "model_module": "@jupyter-widgets/controls",
      "model_module_version": "1.5.0",
      "state": {
       "description_width": ""
      }
     },
     "d2496da3325142f39d7721c323b86b60": {
      "model_name": "FloatProgressModel",
      "model_module": "@jupyter-widgets/controls",
      "model_module_version": "1.5.0",
      "state": {
       "bar_style": "success",
       "layout": "IPY_MODEL_f509ef46f6a047e38dfc7a7892f74e4f",
       "max": 1,
       "style": "IPY_MODEL_980256821e254c5a9a7cb834c5095675",
       "value": 1
      }
     },
     "7aac05dcbdf54630bf8ef1b092335267": {
      "model_name": "LayoutModel",
      "model_module": "@jupyter-widgets/base",
      "model_module_version": "1.2.0",
      "state": {}
     },
     "ca0dbb42d95a4312ba254da7140835d2": {
      "model_name": "DescriptionStyleModel",
      "model_module": "@jupyter-widgets/controls",
      "model_module_version": "1.5.0",
      "state": {
       "description_width": ""
      }
     },
     "4601f663890f4328882b1c906561056b": {
      "model_name": "HTMLModel",
      "model_module": "@jupyter-widgets/controls",
      "model_module_version": "1.5.0",
      "state": {
       "layout": "IPY_MODEL_7aac05dcbdf54630bf8ef1b092335267",
       "style": "IPY_MODEL_ca0dbb42d95a4312ba254da7140835d2",
       "value": " 1/1 [00:00&lt;00:00, 20.17ba/s]"
      }
     },
     "da5070dffee94ca3a367da09e904e2d5": {
      "model_name": "LayoutModel",
      "model_module": "@jupyter-widgets/base",
      "model_module_version": "1.2.0",
      "state": {}
     },
     "a8eb47878bf646e79707377c8e2feb84": {
      "model_name": "HBoxModel",
      "model_module": "@jupyter-widgets/controls",
      "model_module_version": "1.5.0",
      "state": {
       "children": [
        "IPY_MODEL_e5c621b2de6347eaba92b97fdd70b70d",
        "IPY_MODEL_d2496da3325142f39d7721c323b86b60",
        "IPY_MODEL_4601f663890f4328882b1c906561056b"
       ],
       "layout": "IPY_MODEL_da5070dffee94ca3a367da09e904e2d5"
      }
     },
     "1897a81312ad43bdae8ab9f10bd32ba1": {
      "model_name": "LayoutModel",
      "model_module": "@jupyter-widgets/base",
      "model_module_version": "1.2.0",
      "state": {}
     },
     "40d7ac2f1a3044168dea2d29b609be7b": {
      "model_name": "DescriptionStyleModel",
      "model_module": "@jupyter-widgets/controls",
      "model_module_version": "1.5.0",
      "state": {
       "description_width": ""
      }
     },
     "4e21b516b1b74cceb5df8fe5653d50ea": {
      "model_name": "HTMLModel",
      "model_module": "@jupyter-widgets/controls",
      "model_module_version": "1.5.0",
      "state": {
       "layout": "IPY_MODEL_1897a81312ad43bdae8ab9f10bd32ba1",
       "style": "IPY_MODEL_40d7ac2f1a3044168dea2d29b609be7b",
       "value": "Upload 1 LFS files: 100%"
      }
     },
     "911f5b8591fb4dbb99b58d2ba3fa01ad": {
      "model_name": "LayoutModel",
      "model_module": "@jupyter-widgets/base",
      "model_module_version": "1.2.0",
      "state": {}
     },
     "ccd0d4090f9946c3bb7dd06048f48eb8": {
      "model_name": "ProgressStyleModel",
      "model_module": "@jupyter-widgets/controls",
      "model_module_version": "1.5.0",
      "state": {
       "description_width": ""
      }
     },
     "1e61340d21e24ce0927478934bebec2e": {
      "model_name": "FloatProgressModel",
      "model_module": "@jupyter-widgets/controls",
      "model_module_version": "1.5.0",
      "state": {
       "bar_style": "success",
       "layout": "IPY_MODEL_911f5b8591fb4dbb99b58d2ba3fa01ad",
       "max": 1,
       "style": "IPY_MODEL_ccd0d4090f9946c3bb7dd06048f48eb8",
       "value": 1
      }
     },
     "8aedbe4d3c28472094e83d159b14e90d": {
      "model_name": "LayoutModel",
      "model_module": "@jupyter-widgets/base",
      "model_module_version": "1.2.0",
      "state": {}
     },
     "fe4a906b123946df8fb2463e1e18c9d8": {
      "model_name": "DescriptionStyleModel",
      "model_module": "@jupyter-widgets/controls",
      "model_module_version": "1.5.0",
      "state": {
       "description_width": ""
      }
     },
     "4b6d7b56dbc74457bf4e207f1db26c32": {
      "model_name": "HTMLModel",
      "model_module": "@jupyter-widgets/controls",
      "model_module_version": "1.5.0",
      "state": {
       "layout": "IPY_MODEL_8aedbe4d3c28472094e83d159b14e90d",
       "style": "IPY_MODEL_fe4a906b123946df8fb2463e1e18c9d8",
       "value": " 1/1 [00:03&lt;00:00,  3.14s/it]"
      }
     },
     "d58b0f47617b4982841ad3c8ef69ca44": {
      "model_name": "LayoutModel",
      "model_module": "@jupyter-widgets/base",
      "model_module_version": "1.2.0",
      "state": {}
     },
     "02bc8115707f49808072fb92ff77b443": {
      "model_name": "HBoxModel",
      "model_module": "@jupyter-widgets/controls",
      "model_module_version": "1.5.0",
      "state": {
       "children": [
        "IPY_MODEL_4e21b516b1b74cceb5df8fe5653d50ea",
        "IPY_MODEL_1e61340d21e24ce0927478934bebec2e",
        "IPY_MODEL_4b6d7b56dbc74457bf4e207f1db26c32"
       ],
       "layout": "IPY_MODEL_d58b0f47617b4982841ad3c8ef69ca44"
      }
     },
     "e29ec24f257b4a908862bdb9a4fab5b8": {
      "model_name": "LayoutModel",
      "model_module": "@jupyter-widgets/base",
      "model_module_version": "1.2.0",
      "state": {}
     },
     "260c8301a8254ca5aaf0d1b7bc223496": {
      "model_name": "DescriptionStyleModel",
      "model_module": "@jupyter-widgets/controls",
      "model_module_version": "1.5.0",
      "state": {
       "description_width": ""
      }
     },
     "d353b64a3b9842d4a3e101343d827315": {
      "model_name": "HTMLModel",
      "model_module": "@jupyter-widgets/controls",
      "model_module_version": "1.5.0",
      "state": {
       "layout": "IPY_MODEL_e29ec24f257b4a908862bdb9a4fab5b8",
       "style": "IPY_MODEL_260c8301a8254ca5aaf0d1b7bc223496",
       "value": "Downloading metadata: 100%"
      }
     },
     "ac616894744741aaa903d7d7ae21766d": {
      "model_name": "LayoutModel",
      "model_module": "@jupyter-widgets/base",
      "model_module_version": "1.2.0",
      "state": {}
     },
     "b057242879934dc9a49241aa081ca3c9": {
      "model_name": "ProgressStyleModel",
      "model_module": "@jupyter-widgets/controls",
      "model_module_version": "1.5.0",
      "state": {
       "description_width": ""
      }
     },
     "daf6ced860704533b387a2653e4bce79": {
      "model_name": "FloatProgressModel",
      "model_module": "@jupyter-widgets/controls",
      "model_module_version": "1.5.0",
      "state": {
       "bar_style": "success",
       "layout": "IPY_MODEL_ac616894744741aaa903d7d7ae21766d",
       "max": 21,
       "style": "IPY_MODEL_b057242879934dc9a49241aa081ca3c9",
       "value": 21
      }
     },
     "e128b89407b34350bbed5c458db7b3ec": {
      "model_name": "LayoutModel",
      "model_module": "@jupyter-widgets/base",
      "model_module_version": "1.2.0",
      "state": {}
     },
     "67620695fea14600897e995cd9bfb992": {
      "model_name": "DescriptionStyleModel",
      "model_module": "@jupyter-widgets/controls",
      "model_module_version": "1.5.0",
      "state": {
       "description_width": ""
      }
     },
     "340df592187c48e094f91c62a3c57b66": {
      "model_name": "HTMLModel",
      "model_module": "@jupyter-widgets/controls",
      "model_module_version": "1.5.0",
      "state": {
       "layout": "IPY_MODEL_e128b89407b34350bbed5c458db7b3ec",
       "style": "IPY_MODEL_67620695fea14600897e995cd9bfb992",
       "value": " 21.0/21.0 [00:00&lt;00:00, 1.55kB/s]"
      }
     },
     "cae9c89307d14189bfd0624f518ff75c": {
      "model_name": "LayoutModel",
      "model_module": "@jupyter-widgets/base",
      "model_module_version": "1.2.0",
      "state": {}
     },
     "08411c52c34a4416a2ac4019e0361e03": {
      "model_name": "HBoxModel",
      "model_module": "@jupyter-widgets/controls",
      "model_module_version": "1.5.0",
      "state": {
       "children": [
        "IPY_MODEL_d353b64a3b9842d4a3e101343d827315",
        "IPY_MODEL_daf6ced860704533b387a2653e4bce79",
        "IPY_MODEL_340df592187c48e094f91c62a3c57b66"
       ],
       "layout": "IPY_MODEL_cae9c89307d14189bfd0624f518ff75c"
      }
     }
    }
   }
  },
  "kernelspec": {
   "name": "python3",
   "language": "python",
   "display_name": "Python 3 (ipykernel)"
  },
  "datalore": {
   "computation_mode": "JUPYTER",
   "package_manager": "pip",
   "base_environment": "default",
   "packages": [
    {
     "name": "datasets",
     "version": "2.12.0",
     "source": "PIP"
    },
    {
     "name": "tiktoken",
     "version": "0.4.0",
     "source": "PIP"
    },
    {
     "name": "openai",
     "version": "0.27.7",
     "source": "PIP"
    }
   ],
   "report_row_ids": [],
   "version": 3
  }
 },
 "nbformat": 4,
 "nbformat_minor": 4
}
