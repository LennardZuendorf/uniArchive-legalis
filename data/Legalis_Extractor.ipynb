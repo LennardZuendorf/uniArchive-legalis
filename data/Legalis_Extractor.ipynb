{
 "cells": [
  {
   "cell_type": "markdown",
   "source": [
    "# Legalis Extractor\n",
    "\n",
    "### Notebook used to extract features and create binary values to predict"
   ],
   "metadata": {
    "datalore": {
     "node_id": "SNNEh5ZxYrUXLpHt35gokV",
     "type": "MD",
     "hide_input_from_viewers": true,
     "hide_output_from_viewers": true
    },
    "id": "iW6EL4GnU0gm"
   }
  },
  {
   "cell_type": "markdown",
   "source": [
    "## importing packages and dataset"
   ],
   "metadata": {
    "datalore": {
     "node_id": "VXhukrUsM3aQi2jmEgXU36",
     "type": "MD",
     "hide_input_from_viewers": true,
     "hide_output_from_viewers": true
    },
    "id": "_u5AJQNuU0gx"
   }
  },
  {
   "cell_type": "markdown",
   "source": [
    "#### install libaries with pip (needed especially for only jupyter notebook services, i.e. google collab)"
   ],
   "metadata": {
    "id": "BN9IW0k6U4pw"
   }
  },
  {
   "cell_type": "code",
   "source": [
    "!pip install datasets\n",
    "!pip install openai\n",
    "!pip install huggingface-hub"
   ],
   "metadata": {
    "colab": {
     "base_uri": "https://localhost:8080/"
    },
    "id": "nhHkLYW0U3lW",
    "outputId": "422f2293-0427-4af7-b925-25dc96c62cd3",
    "ExecuteTime": {
     "end_time": "2023-06-27T20:23:06.270121100Z",
     "start_time": "2023-06-27T20:22:48.450819200Z"
    }
   },
   "execution_count": 3,
   "outputs": [
    {
     "name": "stdout",
     "output_type": "stream",
     "text": [
      "Requirement already satisfied: datasets in c:\\users\\lenna\\programming\\legalis\\venv\\lib\\site-packages (2.12.0)\n",
      "Requirement already satisfied: numpy>=1.17 in c:\\users\\lenna\\programming\\legalis\\venv\\lib\\site-packages (from datasets) (1.24.3)\n",
      "Requirement already satisfied: pyarrow>=8.0.0 in c:\\users\\lenna\\programming\\legalis\\venv\\lib\\site-packages (from datasets) (12.0.0)\n",
      "Requirement already satisfied: dill<0.3.7,>=0.3.0 in c:\\users\\lenna\\programming\\legalis\\venv\\lib\\site-packages (from datasets) (0.3.6)\n",
      "Requirement already satisfied: pandas in c:\\users\\lenna\\programming\\legalis\\venv\\lib\\site-packages (from datasets) (2.0.2)\n",
      "Requirement already satisfied: requests>=2.19.0 in c:\\users\\lenna\\programming\\legalis\\venv\\lib\\site-packages (from datasets) (2.31.0)\n",
      "Requirement already satisfied: tqdm>=4.62.1 in c:\\users\\lenna\\programming\\legalis\\venv\\lib\\site-packages (from datasets) (4.65.0)\n",
      "Requirement already satisfied: xxhash in c:\\users\\lenna\\programming\\legalis\\venv\\lib\\site-packages (from datasets) (3.2.0)\n",
      "Requirement already satisfied: multiprocess in c:\\users\\lenna\\programming\\legalis\\venv\\lib\\site-packages (from datasets) (0.70.14)\n",
      "Requirement already satisfied: fsspec[http]>=2021.11.1 in c:\\users\\lenna\\programming\\legalis\\venv\\lib\\site-packages (from datasets) (2023.5.0)\n",
      "Requirement already satisfied: aiohttp in c:\\users\\lenna\\programming\\legalis\\venv\\lib\\site-packages (from datasets) (3.8.4)\n",
      "Requirement already satisfied: huggingface-hub<1.0.0,>=0.11.0 in c:\\users\\lenna\\programming\\legalis\\venv\\lib\\site-packages (from datasets) (0.15.1)\n",
      "Requirement already satisfied: packaging in c:\\users\\lenna\\programming\\legalis\\venv\\lib\\site-packages (from datasets) (23.1)\n",
      "Requirement already satisfied: responses<0.19 in c:\\users\\lenna\\programming\\legalis\\venv\\lib\\site-packages (from datasets) (0.18.0)\n",
      "Requirement already satisfied: pyyaml>=5.1 in c:\\users\\lenna\\programming\\legalis\\venv\\lib\\site-packages (from datasets) (6.0)\n",
      "Requirement already satisfied: attrs>=17.3.0 in c:\\users\\lenna\\programming\\legalis\\venv\\lib\\site-packages (from aiohttp->datasets) (23.1.0)\n",
      "Requirement already satisfied: charset-normalizer<4.0,>=2.0 in c:\\users\\lenna\\programming\\legalis\\venv\\lib\\site-packages (from aiohttp->datasets) (3.1.0)\n",
      "Requirement already satisfied: multidict<7.0,>=4.5 in c:\\users\\lenna\\programming\\legalis\\venv\\lib\\site-packages (from aiohttp->datasets) (6.0.4)\n",
      "Requirement already satisfied: async-timeout<5.0,>=4.0.0a3 in c:\\users\\lenna\\programming\\legalis\\venv\\lib\\site-packages (from aiohttp->datasets) (4.0.2)\n",
      "Requirement already satisfied: yarl<2.0,>=1.0 in c:\\users\\lenna\\programming\\legalis\\venv\\lib\\site-packages (from aiohttp->datasets) (1.9.2)\n",
      "Requirement already satisfied: frozenlist>=1.1.1 in c:\\users\\lenna\\programming\\legalis\\venv\\lib\\site-packages (from aiohttp->datasets) (1.3.3)\n",
      "Requirement already satisfied: aiosignal>=1.1.2 in c:\\users\\lenna\\programming\\legalis\\venv\\lib\\site-packages (from aiohttp->datasets) (1.3.1)\n",
      "Requirement already satisfied: filelock in c:\\users\\lenna\\programming\\legalis\\venv\\lib\\site-packages (from huggingface-hub<1.0.0,>=0.11.0->datasets) (3.12.0)\n",
      "Requirement already satisfied: typing-extensions>=3.7.4.3 in c:\\users\\lenna\\programming\\legalis\\venv\\lib\\site-packages (from huggingface-hub<1.0.0,>=0.11.0->datasets) (4.6.3)\n",
      "Requirement already satisfied: idna<4,>=2.5 in c:\\users\\lenna\\programming\\legalis\\venv\\lib\\site-packages (from requests>=2.19.0->datasets) (3.4)\n",
      "Requirement already satisfied: urllib3<3,>=1.21.1 in c:\\users\\lenna\\programming\\legalis\\venv\\lib\\site-packages (from requests>=2.19.0->datasets) (2.0.2)\n",
      "Requirement already satisfied: certifi>=2017.4.17 in c:\\users\\lenna\\programming\\legalis\\venv\\lib\\site-packages (from requests>=2.19.0->datasets) (2023.5.7)\n",
      "Requirement already satisfied: colorama in c:\\users\\lenna\\programming\\legalis\\venv\\lib\\site-packages (from tqdm>=4.62.1->datasets) (0.4.6)\n",
      "Requirement already satisfied: python-dateutil>=2.8.2 in c:\\users\\lenna\\programming\\legalis\\venv\\lib\\site-packages (from pandas->datasets) (2.8.2)\n",
      "Requirement already satisfied: pytz>=2020.1 in c:\\users\\lenna\\programming\\legalis\\venv\\lib\\site-packages (from pandas->datasets) (2023.3)\n",
      "Requirement already satisfied: tzdata>=2022.1 in c:\\users\\lenna\\programming\\legalis\\venv\\lib\\site-packages (from pandas->datasets) (2023.3)\n",
      "Requirement already satisfied: six>=1.5 in c:\\users\\lenna\\programming\\legalis\\venv\\lib\\site-packages (from python-dateutil>=2.8.2->pandas->datasets) (1.16.0)\n",
      "Requirement already satisfied: openai in c:\\users\\lenna\\programming\\legalis\\venv\\lib\\site-packages (0.27.7)\n",
      "Requirement already satisfied: requests>=2.20 in c:\\users\\lenna\\programming\\legalis\\venv\\lib\\site-packages (from openai) (2.31.0)\n",
      "Requirement already satisfied: tqdm in c:\\users\\lenna\\programming\\legalis\\venv\\lib\\site-packages (from openai) (4.65.0)\n",
      "Requirement already satisfied: aiohttp in c:\\users\\lenna\\programming\\legalis\\venv\\lib\\site-packages (from openai) (3.8.4)\n",
      "Requirement already satisfied: charset-normalizer<4,>=2 in c:\\users\\lenna\\programming\\legalis\\venv\\lib\\site-packages (from requests>=2.20->openai) (3.1.0)\n",
      "Requirement already satisfied: idna<4,>=2.5 in c:\\users\\lenna\\programming\\legalis\\venv\\lib\\site-packages (from requests>=2.20->openai) (3.4)\n",
      "Requirement already satisfied: urllib3<3,>=1.21.1 in c:\\users\\lenna\\programming\\legalis\\venv\\lib\\site-packages (from requests>=2.20->openai) (2.0.2)\n",
      "Requirement already satisfied: certifi>=2017.4.17 in c:\\users\\lenna\\programming\\legalis\\venv\\lib\\site-packages (from requests>=2.20->openai) (2023.5.7)\n",
      "Requirement already satisfied: attrs>=17.3.0 in c:\\users\\lenna\\programming\\legalis\\venv\\lib\\site-packages (from aiohttp->openai) (23.1.0)\n",
      "Requirement already satisfied: multidict<7.0,>=4.5 in c:\\users\\lenna\\programming\\legalis\\venv\\lib\\site-packages (from aiohttp->openai) (6.0.4)\n",
      "Requirement already satisfied: async-timeout<5.0,>=4.0.0a3 in c:\\users\\lenna\\programming\\legalis\\venv\\lib\\site-packages (from aiohttp->openai) (4.0.2)\n",
      "Requirement already satisfied: yarl<2.0,>=1.0 in c:\\users\\lenna\\programming\\legalis\\venv\\lib\\site-packages (from aiohttp->openai) (1.9.2)\n",
      "Requirement already satisfied: frozenlist>=1.1.1 in c:\\users\\lenna\\programming\\legalis\\venv\\lib\\site-packages (from aiohttp->openai) (1.3.3)\n",
      "Requirement already satisfied: aiosignal>=1.1.2 in c:\\users\\lenna\\programming\\legalis\\venv\\lib\\site-packages (from aiohttp->openai) (1.3.1)\n",
      "Requirement already satisfied: colorama in c:\\users\\lenna\\programming\\legalis\\venv\\lib\\site-packages (from tqdm->openai) (0.4.6)\n",
      "Requirement already satisfied: huggingface-hub in c:\\users\\lenna\\programming\\legalis\\venv\\lib\\site-packages (0.15.1)\n",
      "Requirement already satisfied: filelock in c:\\users\\lenna\\programming\\legalis\\venv\\lib\\site-packages (from huggingface-hub) (3.12.0)\n",
      "Requirement already satisfied: fsspec in c:\\users\\lenna\\programming\\legalis\\venv\\lib\\site-packages (from huggingface-hub) (2023.5.0)\n",
      "Requirement already satisfied: requests in c:\\users\\lenna\\programming\\legalis\\venv\\lib\\site-packages (from huggingface-hub) (2.31.0)\n",
      "Requirement already satisfied: tqdm>=4.42.1 in c:\\users\\lenna\\programming\\legalis\\venv\\lib\\site-packages (from huggingface-hub) (4.65.0)\n",
      "Requirement already satisfied: pyyaml>=5.1 in c:\\users\\lenna\\programming\\legalis\\venv\\lib\\site-packages (from huggingface-hub) (6.0)\n",
      "Requirement already satisfied: typing-extensions>=3.7.4.3 in c:\\users\\lenna\\programming\\legalis\\venv\\lib\\site-packages (from huggingface-hub) (4.6.3)\n",
      "Requirement already satisfied: packaging>=20.9 in c:\\users\\lenna\\programming\\legalis\\venv\\lib\\site-packages (from huggingface-hub) (23.1)\n",
      "Requirement already satisfied: colorama in c:\\users\\lenna\\programming\\legalis\\venv\\lib\\site-packages (from tqdm>=4.42.1->huggingface-hub) (0.4.6)\n",
      "Requirement already satisfied: charset-normalizer<4,>=2 in c:\\users\\lenna\\programming\\legalis\\venv\\lib\\site-packages (from requests->huggingface-hub) (3.1.0)\n",
      "Requirement already satisfied: idna<4,>=2.5 in c:\\users\\lenna\\programming\\legalis\\venv\\lib\\site-packages (from requests->huggingface-hub) (3.4)\n",
      "Requirement already satisfied: urllib3<3,>=1.21.1 in c:\\users\\lenna\\programming\\legalis\\venv\\lib\\site-packages (from requests->huggingface-hub) (2.0.2)\n",
      "Requirement already satisfied: certifi>=2017.4.17 in c:\\users\\lenna\\programming\\legalis\\venv\\lib\\site-packages (from requests->huggingface-hub) (2023.5.7)\n"
     ]
    }
   ]
  },
  {
   "cell_type": "markdown",
   "source": [
    "#### imports and huggingface login"
   ],
   "metadata": {
    "id": "dlrhCjNIU35P"
   }
  },
  {
   "cell_type": "code",
   "source": [
    "#standart imports\n",
    "import pandas as pd\n",
    "import matplotlib.pyplot as plt\n",
    "import time\n",
    "import os\n",
    "\n",
    "import datasets as ds #for dataset management and processing\n",
    "import huggingface_hub #for huggingface login\n",
    "\n",
    "import openai #openai libary for chatgpt api\n",
    "\n",
    "huggingface_hub.notebook_login()"
   ],
   "execution_count": 4,
   "outputs": [
    {
     "data": {
      "text/plain": "VBox(children=(HTML(value='<center> <img\\nsrc=https://huggingface.co/front/assets/huggingface_logo-noborder.sv…",
      "application/vnd.jupyter.widget-view+json": {
       "version_major": 2,
       "version_minor": 0,
       "model_id": "2a477709ead843209c8ace34620b0caf"
      }
     },
     "metadata": {},
     "output_type": "display_data"
    }
   ],
   "metadata": {
    "datalore": {
     "node_id": "r7deqMb4RZFTehQb0muJFU",
     "type": "CODE",
     "hide_input_from_viewers": true,
     "hide_output_from_viewers": true
    },
    "colab": {
     "base_uri": "https://localhost:8080/",
     "height": 303,
     "referenced_widgets": [
      "fd13b27a56f74d10a87b079d70690ec6",
      "264a13cadb1b40f6a654c3c9ef8b247f",
      "c45624d8e0814ba9bcd402a3bf251b56",
      "476617d6031d4503a5d9ed195fd8bcd8",
      "95cfab46c6b646f896109e7e644ad236",
      "457271778d4348d8b931e5511c769d1d",
      "ecaa2d5a7af24eeab53c5bbdd499221e",
      "b61254664ab44c89ac9d2c6c91a107f2",
      "056198225f254826843cfdb3265bbd77",
      "d491154d83a8459b9cc55b86d18aae61",
      "c090e5a71b414ee3a267c4244717595c",
      "95afc7a48fef4cc392a941182fc5ae0d",
      "63696055388f4f0b8b1ce3d8fa3d5eb6",
      "783dd56b69c646f6880ad45e59427467",
      "b4f5de83c82942a496d91b4df80c89f5",
      "b63db35429e745dea36ab4c136021b49",
      "c7cb730a7f354d95be0402f330aea5c9"
     ]
    },
    "id": "6xOBVX1aU0gy",
    "outputId": "e5312bf1-e724-4b52-ba61-441ae4c88e2c",
    "ExecuteTime": {
     "end_time": "2023-06-27T20:23:10.633413Z",
     "start_time": "2023-06-27T20:23:06.270121100Z"
    }
   }
  },
  {
   "cell_type": "markdown",
   "source": [
    "#### import of split but not enhanced dataset from huggingface hub or csv, commented out bc not used in production"
   ],
   "metadata": {
    "id": "AnhYV_ddU3Fa"
   }
  },
  {
   "cell_type": "code",
   "source": [
    "#loading dataset from csv (reproduction way)\n",
    "#dataset=ds.load_dataset(\"csv\", data_files=\"three-split-dataset.csv\")\n",
    "\n",
    "#loading dataset from huggingface hub (production way)\n",
    "dataset=ds.load_dataset(\"LennardZuendorf/openlegaldata-processed\", split=\"three\")\n",
    "print(dataset)"
   ],
   "metadata": {
    "id": "JIMP5F-qU2aI"
   },
   "execution_count": null,
   "outputs": []
  },
  {
   "cell_type": "markdown",
   "source": [
    "#### import of already enhanced dataset for updates (testing/edit way)"
   ],
   "metadata": {
    "id": "YMvlv0uFU201"
   }
  },
  {
   "cell_type": "code",
   "source": [
    "#importing both splits of dataset and merging them back together\n",
    "#train=ds.load_dataset(\"LennardZuendorf/legalis\", split=\"train\")\n",
    "#test=ds.load_dataset(\"LennardZuendorf/legalis\", split=\"test\")\n",
    "#dataset = ds.concatenate_datasets([train,test])\n",
    "\n",
    "#removing columns for eventual retry (not needed now)\n",
    "#dataset = dataset.remove_columns(['label', 'winner'])\n",
    "\n",
    "#print(dataset)"
   ],
   "execution_count": 10,
   "outputs": [
    {
     "name": "stderr",
     "output_type": "stream",
     "text": [
      "Found cached dataset parquet (C:/Users/lenna/.cache/huggingface/datasets/LennardZuendorf___parquet/LennardZuendorf--legalis-a2e01f8f34ef8796/0.0.0/2a3b91fbd88a2c90d1dbbb32b460cf621d31bd5b05b934492fdef7d8d6f236ec)\n",
      "Found cached dataset parquet (C:/Users/lenna/.cache/huggingface/datasets/LennardZuendorf___parquet/LennardZuendorf--legalis-a2e01f8f34ef8796/0.0.0/2a3b91fbd88a2c90d1dbbb32b460cf621d31bd5b05b934492fdef7d8d6f236ec)\n"
     ]
    },
    {
     "name": "stdout",
     "output_type": "stream",
     "text": [
      "Dataset({\n",
      "    features: ['id', 'file_number', 'date', 'type', 'content', 'tenor', 'facts', 'reasoning', 'winner', 'label'],\n",
      "    num_rows: 2801\n",
      "})\n"
     ]
    }
   ],
   "metadata": {
    "datalore": {
     "node_id": "emqV1ioMPnhSt1vDtyyYFb",
     "type": "CODE",
     "hide_input_from_viewers": true,
     "hide_output_from_viewers": true
    },
    "colab": {
     "base_uri": "https://localhost:8080/"
    },
    "id": "kBFYWDAYU0g2",
    "outputId": "962d98df-4f42-49a5-9505-f1fbf65788be",
    "ExecuteTime": {
     "end_time": "2023-06-27T20:40:10.893104800Z",
     "start_time": "2023-06-27T20:40:06.239320200Z"
    }
   }
  },
  {
   "cell_type": "markdown",
   "source": [
    "## Enhancing Dataset using OpenAI ChatGPT API by extracting winner and prediction label\n",
    "#### using ChatGPT API to extract a winner from the tenor (summary), including a number label (0/1)"
   ],
   "metadata": {
    "datalore": {
     "node_id": "RaKtGB2ub5vjy0vKiUxcwa",
     "type": "MD",
     "hide_input_from_viewers": true,
     "hide_output_from_viewers": true
    },
    "id": "rOh4obCbU0g4"
   }
  },
  {
   "cell_type": "code",
   "source": [
    "#grabing openai key from environment variable\n",
    "openai.api_key = os.getenv(\"openai_token\")\n",
    "\n",
    "#function to extract a label\n",
    "def winner_extract(data):\n",
    "  try:\n",
    "    #creation of chatgpt completion call\n",
    "    completion = openai.ChatCompletion.create(\n",
    "      model=\"gpt-3.5-turbo\",\n",
    "      messages=[\n",
    "        {\"role\": \"system\", \"content\": \"You are a legal scholar.\"},\n",
    "        {\"role\": \"user\", \"content\":\n",
    "                            \"Extrahiere aus dem folgenden Tenor einer Gerichtsentscheidung den Gewinner der Entscheidung:\"\n",
    "                            +str(data['tenor'])+\"Gib den Gewinner so aus: Gewinner: mit 1 für Kläger und 0 für Verklagter.\"\n",
    "        }\n",
    "      ]\n",
    "    )# error handling\n",
    "  except openai.error.RateLimitError as e:\n",
    "    print(f\"OpenAI API request exceeded rate limit: {e}\")\n",
    "    time.sleep(5)\n",
    "    return winner_extract(data)\n",
    "  except openai.error.ServiceUnavailableError as e:\n",
    "    print(f\"OpenAI API request exceeded rate limit: {e}\")\n",
    "    time.sleep(5)\n",
    "    return winner_extract(data)\n",
    "  except Exception as e:\n",
    "    print(f\"encountered unknown error: {e}\")\n",
    "    data['winner'] = \"error\"\n",
    "    return data\n",
    "\n",
    "  #extracting the answer\n",
    "  data['winner']=completion.choices[0].message['content']\n",
    "  return data\n",
    "\n",
    "\n",
    "#batching dataset and running gpt in varibales batches\n",
    "def batch_runner(data, batch_size, first_batch):\n",
    "    #first batch\n",
    "    print(\"running first batch \"+str(0)+\" to \"+str(first_batch))\n",
    "    output = ds.Dataset.from_dict(data[:first_batch])\n",
    "    output = output.map(winner_extract)\n",
    "\n",
    "    #setting iteration values\n",
    "    i=first_batch\n",
    "    e=i+batch_size\n",
    "\n",
    "    #batch running\n",
    "    while i<len(data):\n",
    "        #printing batch progress\n",
    "        print(\"running batch \"+str(i)+\" to \"+str(e))\n",
    "\n",
    "        #creating batch, running function for extraction, appending to output\n",
    "        tmp_data=ds.Dataset.from_dict(data[i:e])\n",
    "        tmp_data=tmp_data.map(winner_extract)\n",
    "        output = ds.concatenate_datasets([output, tmp_data])\n",
    "\n",
    "        #updating iteration values\n",
    "        i=e\n",
    "        e=i+batch_size\n",
    "\n",
    "    return output"
   ],
   "execution_count": 9,
   "outputs": [],
   "metadata": {
    "datalore": {
     "node_id": "YwoMx46nZAm1MZK5lBdEbN",
     "type": "CODE",
     "hide_input_from_viewers": true,
     "hide_output_from_viewers": true
    },
    "id": "CyDsmR7KU0g5"
   }
  },
  {
   "cell_type": "markdown",
   "source": [
    "#### creating a binary label from the ChatGPT response and stripping down the text response in winner"
   ],
   "metadata": {
    "datalore": {
     "node_id": "Np2OoJhhUseZalz8AolYmF",
     "type": "MD",
     "hide_input_from_viewers": true,
     "hide_output_from_viewers": true
    },
    "id": "Dn9CZsNNU0g6"
   }
  },
  {
   "cell_type": "code",
   "source": [
    "def winner_binary(data):\n",
    "  winner = data['winner']\n",
    "\n",
    "  #new label if winner is 1 (Klaeger) or 0 (Verklagter), else put other numbers (mostly for statistics)\n",
    "  if \"1\" in winner or data['label']==1:\n",
    "      data['label']=1\n",
    "      data['winner']=\"Klaeger*in\"\n",
    "  elif \"0\" in winner or data['label']==0:\n",
    "      data['label']=0\n",
    "      data['winner']=\"Verklagte*r\"\n",
    "  elif \"1\" in winner and \"0\" in winner:\n",
    "      data['label']=2\n",
    "  else:\n",
    "      data['label']=3\n",
    "\n",
    "  return data\n",
    "\n",
    "#function to filter out non binary labels\n",
    "def filter_binary(data):\n",
    "    if data['label']==2 or data['label']==3:\n",
    "        return False\n",
    "    else:\n",
    "        return True"
   ],
   "execution_count": 21,
   "outputs": [],
   "metadata": {
    "datalore": {
     "node_id": "LkxZVMtn40a55Na2UzgDG0",
     "type": "CODE",
     "hide_input_from_viewers": true,
     "hide_output_from_viewers": true
    },
    "id": "YU2bJ1uVU0g7"
   }
  },
  {
   "cell_type": "markdown",
   "source": [
    "#### functions to count success and distribution of case outcomes"
   ],
   "metadata": {
    "datalore": {
     "node_id": "Y7ELAmQZIhtUawXSbUgK4V",
     "type": "MD",
     "hide_input_from_viewers": true,
     "hide_output_from_viewers": true
    },
    "id": "LOP-K3OVU0g_"
   }
  },
  {
   "cell_type": "code",
   "source": [
    "#counting numbers of success and failure\n",
    "def count_success(enhanced_dataset):\n",
    "\n",
    "    #setting variables\n",
    "    success=0\n",
    "    fail=0\n",
    "\n",
    "    #checking success/failure in each case\n",
    "    for case in dataset:\n",
    "        if case['label']==1 or case['label']==0:\n",
    "            success+=1\n",
    "        elif case['label']==2 or case['label']==3:\n",
    "            fail+=1\n",
    "\n",
    "    #combinding values\n",
    "    dist=[round(success/(success+fail), 2),round(fail/(success+fail),2)]\n",
    "\n",
    "    #setting dataframe columns and index\n",
    "    data={'Success': [success, dist[0]], 'Fails': [fail, dist[1]]}\n",
    "    index=['label nmb.', 'label dist.']\n",
    "\n",
    "    #return dataframe with statistics\n",
    "    return pd.DataFrame(data=data, index=index)\n",
    "\n",
    "#counting distribution of cases\n",
    "def count_dist(dataset):\n",
    "\n",
    "    counter_zero=0\n",
    "    counter_one=0\n",
    "\n",
    "    #checking outcome for each case\n",
    "    for case in dataset:\n",
    "        if case['label']==1:\n",
    "            counter_one+=1\n",
    "        elif case['label']==0:\n",
    "            counter_zero+=1\n",
    "\n",
    "    #combinding values\n",
    "    dist=[round(counter_zero/(counter_zero+counter_one),2),round(counter_one/(counter_zero+counter_one),2)]\n",
    "\n",
    "    #setting dataframe columns and index\n",
    "    data={'Verklagte*r': [counter_zero, dist[0]], 'Klaeger*in': [counter_one, dist[1]]}\n",
    "    index=['case nmb.', 'case dist.']\n",
    "\n",
    "    #return dataframe with statistics\n",
    "    return pd.DataFrame(data=data, index=index)"
   ],
   "execution_count": 7,
   "outputs": [],
   "metadata": {
    "datalore": {
     "node_id": "6CQ07V5oqCBUwAPqLgmzAJ",
     "type": "CODE",
     "hide_input_from_viewers": true,
     "hide_output_from_viewers": true
    },
    "id": "GpriSYG2U0hA"
   }
  },
  {
   "cell_type": "markdown",
   "source": [
    "#### functions to show metrics in bar charts"
   ],
   "metadata": {
    "collapsed": false
   }
  },
  {
   "cell_type": "code",
   "source": [
    "#function to show label metrics as numbers of bar chart\n",
    "def show_label_metrics(label_df):\n",
    "    #setting values for axis\n",
    "    labels = label_df.columns\n",
    "    values = label_df.iloc[0]\n",
    "\n",
    "    #creating bar chart\n",
    "    fig, ax = plt.subplots()\n",
    "    ax.bar(labels, values)\n",
    "    ax.set_xlabel('Outcome')\n",
    "    ax.set_ylabel('Cases')\n",
    "    ax.set_title('Distribution Sucess/Failure Enhancing')\n",
    "\n",
    "    #displaying dataframe and chart\n",
    "    display(label_df)\n",
    "    plt.show()\n",
    "\n",
    "#function to showcase metrics as numbers of bar chart\n",
    "def show_case_metrics(case_df):\n",
    "    #setting values for axis\n",
    "    cases = case_df.columns\n",
    "    values = case_df.iloc[0]\n",
    "\n",
    "    #creating bar chart\n",
    "    fig, ax = plt.subplots()\n",
    "    ax.bar(cases, values)\n",
    "    ax.set_xlabel('Outcome')\n",
    "    ax.set_ylabel('Cases')\n",
    "    ax.set_title('Outcome Distribution')\n",
    "\n",
    "    #displaying dataframe and chart\n",
    "    display(case_df)\n",
    "    plt.show()"
   ],
   "metadata": {
    "id": "9ve6GllWWB-N"
   },
   "execution_count": 29,
   "outputs": []
  },
  {
   "cell_type": "markdown",
   "source": [
    "#### running the enhancing function in batches (won't work without chatgpt api key)"
   ],
   "metadata": {
    "id": "jgTh_1wKXAUR"
   }
  },
  {
   "cell_type": "code",
   "source": [
    "#calling batch runner function to extract labels in batches\n",
    "enhanced_dataset = batch_runner(dataset, 50, 28)\n",
    "#setting enhanced dataset to dataset (only needed for fixes for seing metrics)\n",
    "#enhanced_dataset=dataset"
   ],
   "execution_count": 23,
   "outputs": [],
   "metadata": {
    "datalore": {
     "node_id": "PDYceyccNXQCOzkCcr1cro",
     "type": "CODE",
     "hide_input_from_viewers": true,
     "hide_output_from_viewers": true
    },
    "id": "JewOPTTQU0hA"
   }
  },
  {
   "cell_type": "markdown",
   "source": [
    "#### creating binary labels, filtering and displaying metrics for both\n",
    "Comment: For obvious reasons the failure rate will not be accurate as the chatgpt api is not being used here but only the already processed dataset (without filtered out failures)"
   ],
   "metadata": {
    "id": "13hcdt_4XKmu"
   }
  },
  {
   "cell_type": "code",
   "source": [
    "#creating binary labels with chatgpt and displaying metrics\n",
    "dataset=enhanced_dataset.map(winner_binary)\n",
    "show_label_metrics(count_success(dataset))\n",
    "\n",
    "#filtering out non-binary labels and displaying metrics on case outcomes\n",
    "dataset=dataset.filter(filter_binary)\n",
    "show_case_metrics(count_dist(dataset))"
   ],
   "metadata": {
    "colab": {
     "base_uri": "https://localhost:8080/",
     "height": 1000
    },
    "id": "2uc30WTCXKED",
    "outputId": "67a7f630-728e-43c4-f696-44033eb16808"
   },
   "execution_count": 30,
   "outputs": [
    {
     "output_type": "stream",
     "name": "stderr",
     "text": [
      "WARNING:datasets.arrow_dataset:Loading cached processed dataset at /root/.cache/huggingface/datasets/LennardZuendorf___parquet/LennardZuendorf--legalis-a2e01f8f34ef8796/0.0.0/14a00e99c0d15a23649d0db8944380ac81082d4b021f398733dd84f3a6c569a7/cache-0c1db268afad8ccb.arrow\n"
     ]
    },
    {
     "output_type": "display_data",
     "data": {
      "text/plain": [
       "             Success  Fails\n",
       "label nmb.    2801.0    0.0\n",
       "label dist.      1.0    0.0"
      ],
      "text/html": [
       "\n",
       "  <div id=\"df-27188f1b-4ff0-41d7-8f92-6e5d36b71a4a\">\n",
       "    <div class=\"colab-df-container\">\n",
       "      <div>\n",
       "<style scoped>\n",
       "    .dataframe tbody tr th:only-of-type {\n",
       "        vertical-align: middle;\n",
       "    }\n",
       "\n",
       "    .dataframe tbody tr th {\n",
       "        vertical-align: top;\n",
       "    }\n",
       "\n",
       "    .dataframe thead th {\n",
       "        text-align: right;\n",
       "    }\n",
       "</style>\n",
       "<table border=\"1\" class=\"dataframe\">\n",
       "  <thead>\n",
       "    <tr style=\"text-align: right;\">\n",
       "      <th></th>\n",
       "      <th>Success</th>\n",
       "      <th>Fails</th>\n",
       "    </tr>\n",
       "  </thead>\n",
       "  <tbody>\n",
       "    <tr>\n",
       "      <th>label nmb.</th>\n",
       "      <td>2801.0</td>\n",
       "      <td>0.0</td>\n",
       "    </tr>\n",
       "    <tr>\n",
       "      <th>label dist.</th>\n",
       "      <td>1.0</td>\n",
       "      <td>0.0</td>\n",
       "    </tr>\n",
       "  </tbody>\n",
       "</table>\n",
       "</div>\n",
       "      <button class=\"colab-df-convert\" onclick=\"convertToInteractive('df-27188f1b-4ff0-41d7-8f92-6e5d36b71a4a')\"\n",
       "              title=\"Convert this dataframe to an interactive table.\"\n",
       "              style=\"display:none;\">\n",
       "        \n",
       "  <svg xmlns=\"http://www.w3.org/2000/svg\" height=\"24px\"viewBox=\"0 0 24 24\"\n",
       "       width=\"24px\">\n",
       "    <path d=\"M0 0h24v24H0V0z\" fill=\"none\"/>\n",
       "    <path d=\"M18.56 5.44l.94 2.06.94-2.06 2.06-.94-2.06-.94-.94-2.06-.94 2.06-2.06.94zm-11 1L8.5 8.5l.94-2.06 2.06-.94-2.06-.94L8.5 2.5l-.94 2.06-2.06.94zm10 10l.94 2.06.94-2.06 2.06-.94-2.06-.94-.94-2.06-.94 2.06-2.06.94z\"/><path d=\"M17.41 7.96l-1.37-1.37c-.4-.4-.92-.59-1.43-.59-.52 0-1.04.2-1.43.59L10.3 9.45l-7.72 7.72c-.78.78-.78 2.05 0 2.83L4 21.41c.39.39.9.59 1.41.59.51 0 1.02-.2 1.41-.59l7.78-7.78 2.81-2.81c.8-.78.8-2.07 0-2.86zM5.41 20L4 18.59l7.72-7.72 1.47 1.35L5.41 20z\"/>\n",
       "  </svg>\n",
       "      </button>\n",
       "      \n",
       "  <style>\n",
       "    .colab-df-container {\n",
       "      display:flex;\n",
       "      flex-wrap:wrap;\n",
       "      gap: 12px;\n",
       "    }\n",
       "\n",
       "    .colab-df-convert {\n",
       "      background-color: #E8F0FE;\n",
       "      border: none;\n",
       "      border-radius: 50%;\n",
       "      cursor: pointer;\n",
       "      display: none;\n",
       "      fill: #1967D2;\n",
       "      height: 32px;\n",
       "      padding: 0 0 0 0;\n",
       "      width: 32px;\n",
       "    }\n",
       "\n",
       "    .colab-df-convert:hover {\n",
       "      background-color: #E2EBFA;\n",
       "      box-shadow: 0px 1px 2px rgba(60, 64, 67, 0.3), 0px 1px 3px 1px rgba(60, 64, 67, 0.15);\n",
       "      fill: #174EA6;\n",
       "    }\n",
       "\n",
       "    [theme=dark] .colab-df-convert {\n",
       "      background-color: #3B4455;\n",
       "      fill: #D2E3FC;\n",
       "    }\n",
       "\n",
       "    [theme=dark] .colab-df-convert:hover {\n",
       "      background-color: #434B5C;\n",
       "      box-shadow: 0px 1px 3px 1px rgba(0, 0, 0, 0.15);\n",
       "      filter: drop-shadow(0px 1px 2px rgba(0, 0, 0, 0.3));\n",
       "      fill: #FFFFFF;\n",
       "    }\n",
       "  </style>\n",
       "\n",
       "      <script>\n",
       "        const buttonEl =\n",
       "          document.querySelector('#df-27188f1b-4ff0-41d7-8f92-6e5d36b71a4a button.colab-df-convert');\n",
       "        buttonEl.style.display =\n",
       "          google.colab.kernel.accessAllowed ? 'block' : 'none';\n",
       "\n",
       "        async function convertToInteractive(key) {\n",
       "          const element = document.querySelector('#df-27188f1b-4ff0-41d7-8f92-6e5d36b71a4a');\n",
       "          const dataTable =\n",
       "            await google.colab.kernel.invokeFunction('convertToInteractive',\n",
       "                                                     [key], {});\n",
       "          if (!dataTable) return;\n",
       "\n",
       "          const docLinkHtml = 'Like what you see? Visit the ' +\n",
       "            '<a target=\"_blank\" href=https://colab.research.google.com/notebooks/data_table.ipynb>data table notebook</a>'\n",
       "            + ' to learn more about interactive tables.';\n",
       "          element.innerHTML = '';\n",
       "          dataTable['output_type'] = 'display_data';\n",
       "          await google.colab.output.renderOutput(dataTable, element);\n",
       "          const docLink = document.createElement('div');\n",
       "          docLink.innerHTML = docLinkHtml;\n",
       "          element.appendChild(docLink);\n",
       "        }\n",
       "      </script>\n",
       "    </div>\n",
       "  </div>\n",
       "  "
      ]
     },
     "metadata": {}
    },
    {
     "output_type": "display_data",
     "data": {
      "text/plain": [
       "<Figure size 640x480 with 1 Axes>"
      ],
      "image/png": "[encoded data removed]"
     },
     "metadata": {}
    },
    {
     "output_type": "stream",
     "name": "stderr",
     "text": [
      "WARNING:datasets.arrow_dataset:Loading cached processed dataset at /root/.cache/huggingface/datasets/LennardZuendorf___parquet/LennardZuendorf--legalis-a2e01f8f34ef8796/0.0.0/14a00e99c0d15a23649d0db8944380ac81082d4b021f398733dd84f3a6c569a7/cache-2fb4182eedada78f.arrow\n"
     ]
    },
    {
     "output_type": "display_data",
     "data": {
      "text/plain": [
       "            Verklagte*r  Klaeger*in\n",
       "case nmb.       1705.00     1096.00\n",
       "case dist.         0.61        0.39"
      ],
      "text/html": [
       "\n",
       "  <div id=\"df-f85de902-93d1-4866-b00f-203cbbf051a6\">\n",
       "    <div class=\"colab-df-container\">\n",
       "      <div>\n",
       "<style scoped>\n",
       "    .dataframe tbody tr th:only-of-type {\n",
       "        vertical-align: middle;\n",
       "    }\n",
       "\n",
       "    .dataframe tbody tr th {\n",
       "        vertical-align: top;\n",
       "    }\n",
       "\n",
       "    .dataframe thead th {\n",
       "        text-align: right;\n",
       "    }\n",
       "</style>\n",
       "<table border=\"1\" class=\"dataframe\">\n",
       "  <thead>\n",
       "    <tr style=\"text-align: right;\">\n",
       "      <th></th>\n",
       "      <th>Verklagte*r</th>\n",
       "      <th>Klaeger*in</th>\n",
       "    </tr>\n",
       "  </thead>\n",
       "  <tbody>\n",
       "    <tr>\n",
       "      <th>case nmb.</th>\n",
       "      <td>1705.00</td>\n",
       "      <td>1096.00</td>\n",
       "    </tr>\n",
       "    <tr>\n",
       "      <th>case dist.</th>\n",
       "      <td>0.61</td>\n",
       "      <td>0.39</td>\n",
       "    </tr>\n",
       "  </tbody>\n",
       "</table>\n",
       "</div>\n",
       "      <button class=\"colab-df-convert\" onclick=\"convertToInteractive('df-f85de902-93d1-4866-b00f-203cbbf051a6')\"\n",
       "              title=\"Convert this dataframe to an interactive table.\"\n",
       "              style=\"display:none;\">\n",
       "        \n",
       "  <svg xmlns=\"http://www.w3.org/2000/svg\" height=\"24px\"viewBox=\"0 0 24 24\"\n",
       "       width=\"24px\">\n",
       "    <path d=\"M0 0h24v24H0V0z\" fill=\"none\"/>\n",
       "    <path d=\"M18.56 5.44l.94 2.06.94-2.06 2.06-.94-2.06-.94-.94-2.06-.94 2.06-2.06.94zm-11 1L8.5 8.5l.94-2.06 2.06-.94-2.06-.94L8.5 2.5l-.94 2.06-2.06.94zm10 10l.94 2.06.94-2.06 2.06-.94-2.06-.94-.94-2.06-.94 2.06-2.06.94z\"/><path d=\"M17.41 7.96l-1.37-1.37c-.4-.4-.92-.59-1.43-.59-.52 0-1.04.2-1.43.59L10.3 9.45l-7.72 7.72c-.78.78-.78 2.05 0 2.83L4 21.41c.39.39.9.59 1.41.59.51 0 1.02-.2 1.41-.59l7.78-7.78 2.81-2.81c.8-.78.8-2.07 0-2.86zM5.41 20L4 18.59l7.72-7.72 1.47 1.35L5.41 20z\"/>\n",
       "  </svg>\n",
       "      </button>\n",
       "      \n",
       "  <style>\n",
       "    .colab-df-container {\n",
       "      display:flex;\n",
       "      flex-wrap:wrap;\n",
       "      gap: 12px;\n",
       "    }\n",
       "\n",
       "    .colab-df-convert {\n",
       "      background-color: #E8F0FE;\n",
       "      border: none;\n",
       "      border-radius: 50%;\n",
       "      cursor: pointer;\n",
       "      display: none;\n",
       "      fill: #1967D2;\n",
       "      height: 32px;\n",
       "      padding: 0 0 0 0;\n",
       "      width: 32px;\n",
       "    }\n",
       "\n",
       "    .colab-df-convert:hover {\n",
       "      background-color: #E2EBFA;\n",
       "      box-shadow: 0px 1px 2px rgba(60, 64, 67, 0.3), 0px 1px 3px 1px rgba(60, 64, 67, 0.15);\n",
       "      fill: #174EA6;\n",
       "    }\n",
       "\n",
       "    [theme=dark] .colab-df-convert {\n",
       "      background-color: #3B4455;\n",
       "      fill: #D2E3FC;\n",
       "    }\n",
       "\n",
       "    [theme=dark] .colab-df-convert:hover {\n",
       "      background-color: #434B5C;\n",
       "      box-shadow: 0px 1px 3px 1px rgba(0, 0, 0, 0.15);\n",
       "      filter: drop-shadow(0px 1px 2px rgba(0, 0, 0, 0.3));\n",
       "      fill: #FFFFFF;\n",
       "    }\n",
       "  </style>\n",
       "\n",
       "      <script>\n",
       "        const buttonEl =\n",
       "          document.querySelector('#df-f85de902-93d1-4866-b00f-203cbbf051a6 button.colab-df-convert');\n",
       "        buttonEl.style.display =\n",
       "          google.colab.kernel.accessAllowed ? 'block' : 'none';\n",
       "\n",
       "        async function convertToInteractive(key) {\n",
       "          const element = document.querySelector('#df-f85de902-93d1-4866-b00f-203cbbf051a6');\n",
       "          const dataTable =\n",
       "            await google.colab.kernel.invokeFunction('convertToInteractive',\n",
       "                                                     [key], {});\n",
       "          if (!dataTable) return;\n",
       "\n",
       "          const docLinkHtml = 'Like what you see? Visit the ' +\n",
       "            '<a target=\"_blank\" href=https://colab.research.google.com/notebooks/data_table.ipynb>data table notebook</a>'\n",
       "            + ' to learn more about interactive tables.';\n",
       "          element.innerHTML = '';\n",
       "          dataTable['output_type'] = 'display_data';\n",
       "          await google.colab.output.renderOutput(dataTable, element);\n",
       "          const docLink = document.createElement('div');\n",
       "          docLink.innerHTML = docLinkHtml;\n",
       "          element.appendChild(docLink);\n",
       "        }\n",
       "      </script>\n",
       "    </div>\n",
       "  </div>\n",
       "  "
      ]
     },
     "metadata": {}
    },
    {
     "output_type": "display_data",
     "data": {
      "text/plain": [
       "<Figure size 640x480 with 1 Axes>"
      ],
      "image/png": "[encoded data removed]"
     },
     "metadata": {}
    }
   ]
  },
  {
   "cell_type": "markdown",
   "source": [
    "## Creating Splits, Uploading the new Dataset to HuggingFace Datasets\n",
    "#### saving dataset as csv file for reproducibility"
   ],
   "metadata": {
    "datalore": {
     "node_id": "HtS4ayfyfX4djPXDloGfqa",
     "type": "MD",
     "hide_input_from_viewers": true,
     "hide_output_from_viewers": true
    },
    "id": "9tkLnNvTU0hB"
   }
  },
  {
   "cell_type": "code",
   "execution_count": 11,
   "outputs": [
    {
     "data": {
      "text/plain": "Creating CSV from Arrow format:   0%|          | 0/3 [00:00<?, ?ba/s]",
      "application/vnd.jupyter.widget-view+json": {
       "version_major": 2,
       "version_minor": 0,
       "model_id": "8cccb514ceb84cf8be9f08d74b513db4"
      }
     },
     "metadata": {},
     "output_type": "display_data"
    },
    {
     "data": {
      "text/plain": "167459878"
     },
     "execution_count": 11,
     "metadata": {},
     "output_type": "execute_result"
    }
   ],
   "source": [
    "#saving dataset as csv file for reproducibility (not used in production but can be used to i.e. use other notebooks without huggingface\n",
    "dataset.to_csv(\"legalis-dataset.csv\")"
   ],
   "metadata": {
    "collapsed": false,
    "ExecuteTime": {
     "end_time": "2023-06-27T20:40:59.792196800Z",
     "start_time": "2023-06-27T20:40:46.993208600Z"
    }
   }
  },
  {
   "cell_type": "markdown",
   "source": [
    "#### creating traing/test split with datasets function, then pushing the dataset to the huggingface hub"
   ],
   "metadata": {
    "datalore": {
     "node_id": "xSH05aQKMoorMqNrQ2BArd",
     "type": "MD",
     "hide_input_from_viewers": true,
     "hide_output_from_viewers": true
    },
    "id": "-PjUX-Z2U0hB"
   }
  },
  {
   "cell_type": "code",
   "source": [
    "#splitting data\n",
    "legalis_dataset=dataset.train_test_split(test_size=0.2, shuffle=True)\n",
    "print(dataset)\n",
    "\n",
    "#pushing dataset to huggingface hub\n",
    "legalis_dataset.push_to_hub(\"LennardZuendorf/legalis\", token=os.environ['hub_token'])"
   ],
   "execution_count": 8,
   "outputs": [
    {
     "ename": "AttributeError",
     "evalue": "'DatasetDict' object has no attribute 'train_test_split'",
     "output_type": "error",
     "traceback": [
      "\u001B[1;31m---------------------------------------------------------------------------\u001B[0m",
      "\u001B[1;31mAttributeError\u001B[0m                            Traceback (most recent call last)",
      "Cell \u001B[1;32mIn[8], line 2\u001B[0m\n\u001B[0;32m      1\u001B[0m \u001B[38;5;66;03m#splitting data\u001B[39;00m\n\u001B[1;32m----> 2\u001B[0m dataset \u001B[38;5;241m=\u001B[39m \u001B[43mdataset\u001B[49m\u001B[38;5;241;43m.\u001B[39;49m\u001B[43mtrain_test_split\u001B[49m(test_size\u001B[38;5;241m=\u001B[39m\u001B[38;5;241m0.2\u001B[39m, shuffle\u001B[38;5;241m=\u001B[39m\u001B[38;5;28;01mTrue\u001B[39;00m)\n\u001B[0;32m      3\u001B[0m \u001B[38;5;28mprint\u001B[39m(dataset)\n\u001B[0;32m      5\u001B[0m \u001B[38;5;66;03m#pushing dataset to huggingface hub\u001B[39;00m\n\u001B[0;32m      6\u001B[0m \u001B[38;5;66;03m#dataset.push_to_hub(\"LennardZuendorf/legalis\", token=os.environ['hub_token'])\u001B[39;00m\n",
      "\u001B[1;31mAttributeError\u001B[0m: 'DatasetDict' object has no attribute 'train_test_split'"
     ]
    }
   ],
   "metadata": {
    "datalore": {
     "node_id": "IsYKiaqpn9bkX4u8d9ZQ7L",
     "type": "CODE",
     "hide_input_from_viewers": true,
     "hide_output_from_viewers": true
    },
    "colab": {
     "referenced_widgets": [
      "823ce29333b1402cbe672c4ac14d0184",
      "5b2daf17c2c846bfa4efe568f9d8d539",
      "65f34752238d42979dc94eabeb929db4",
      "d60db2fb32444aa4995bdc61465691d1",
      "c7b5d604e7ea4e1bb6d68d63a90fdadc",
      "e6206d0400bc4d5c8e21c6167ac59358",
      "e5a0c4463bbb45229065563c3134fcd1",
      "74b3834e184f4b9fa87c27055c63eec9"
     ]
    },
    "id": "K_l7qzaoU0hC",
    "outputId": "d3668fe4-ed04-4dd7-eec6-ec245479139d",
    "ExecuteTime": {
     "end_time": "2023-06-27T20:25:55.639823900Z",
     "start_time": "2023-06-27T20:25:55.130615500Z"
    }
   }
  }
 ],
 "metadata": {
  "widgets": {
   "application/vnd.jupyter.widget-state+json": {
    "fd13b27a56f74d10a87b079d70690ec6": {
     "model_module": "@jupyter-widgets/controls",
     "model_name": "VBoxModel",
     "model_module_version": "1.5.0",
     "state": {
      "_dom_classes": [],
      "_model_module": "@jupyter-widgets/controls",
      "_model_module_version": "1.5.0",
      "_model_name": "VBoxModel",
      "_view_count": null,
      "_view_module": "@jupyter-widgets/controls",
      "_view_module_version": "1.5.0",
      "_view_name": "VBoxView",
      "box_style": "",
      "children": [
       "IPY_MODEL_264a13cadb1b40f6a654c3c9ef8b247f",
       "IPY_MODEL_c45624d8e0814ba9bcd402a3bf251b56",
       "IPY_MODEL_476617d6031d4503a5d9ed195fd8bcd8",
       "IPY_MODEL_95cfab46c6b646f896109e7e644ad236",
       "IPY_MODEL_457271778d4348d8b931e5511c769d1d"
      ],
      "layout": "IPY_MODEL_ecaa2d5a7af24eeab53c5bbdd499221e"
     }
    },
    "264a13cadb1b40f6a654c3c9ef8b247f": {
     "model_module": "@jupyter-widgets/controls",
     "model_name": "HTMLModel",
     "model_module_version": "1.5.0",
     "state": {
      "_dom_classes": [],
      "_model_module": "@jupyter-widgets/controls",
      "_model_module_version": "1.5.0",
      "_model_name": "HTMLModel",
      "_view_count": null,
      "_view_module": "@jupyter-widgets/controls",
      "_view_module_version": "1.5.0",
      "_view_name": "HTMLView",
      "description": "",
      "description_tooltip": null,
      "layout": "IPY_MODEL_b61254664ab44c89ac9d2c6c91a107f2",
      "placeholder": "​",
      "style": "IPY_MODEL_056198225f254826843cfdb3265bbd77",
      "value": "<center> <img\nsrc=https://huggingface.co/front/assets/huggingface_logo-noborder.svg\nalt='Hugging Face'> <br> Copy a token from <a\nhref=\"https://huggingface.co/settings/tokens\" target=\"_blank\">your Hugging Face\ntokens page</a> and paste it below. <br> Immediately click login after copying\nyour token or it might be stored in plain text in this notebook file. </center>"
     }
    },
    "c45624d8e0814ba9bcd402a3bf251b56": {
     "model_module": "@jupyter-widgets/controls",
     "model_name": "PasswordModel",
     "model_module_version": "1.5.0",
     "state": {
      "_dom_classes": [],
      "_model_module": "@jupyter-widgets/controls",
      "_model_module_version": "1.5.0",
      "_model_name": "PasswordModel",
      "_view_count": null,
      "_view_module": "@jupyter-widgets/controls",
      "_view_module_version": "1.5.0",
      "_view_name": "PasswordView",
      "continuous_update": true,
      "description": "Token:",
      "description_tooltip": null,
      "disabled": false,
      "layout": "IPY_MODEL_d491154d83a8459b9cc55b86d18aae61",
      "placeholder": "​",
      "style": "IPY_MODEL_c090e5a71b414ee3a267c4244717595c",
      "value": ""
     }
    },
    "476617d6031d4503a5d9ed195fd8bcd8": {
     "model_module": "@jupyter-widgets/controls",
     "model_name": "CheckboxModel",
     "model_module_version": "1.5.0",
     "state": {
      "_dom_classes": [],
      "_model_module": "@jupyter-widgets/controls",
      "_model_module_version": "1.5.0",
      "_model_name": "CheckboxModel",
      "_view_count": null,
      "_view_module": "@jupyter-widgets/controls",
      "_view_module_version": "1.5.0",
      "_view_name": "CheckboxView",
      "description": "Add token as git credential?",
      "description_tooltip": null,
      "disabled": false,
      "indent": true,
      "layout": "IPY_MODEL_95afc7a48fef4cc392a941182fc5ae0d",
      "style": "IPY_MODEL_63696055388f4f0b8b1ce3d8fa3d5eb6",
      "value": true
     }
    },
    "95cfab46c6b646f896109e7e644ad236": {
     "model_module": "@jupyter-widgets/controls",
     "model_name": "ButtonModel",
     "model_module_version": "1.5.0",
     "state": {
      "_dom_classes": [],
      "_model_module": "@jupyter-widgets/controls",
      "_model_module_version": "1.5.0",
      "_model_name": "ButtonModel",
      "_view_count": null,
      "_view_module": "@jupyter-widgets/controls",
      "_view_module_version": "1.5.0",
      "_view_name": "ButtonView",
      "button_style": "",
      "description": "Login",
      "disabled": false,
      "icon": "",
      "layout": "IPY_MODEL_783dd56b69c646f6880ad45e59427467",
      "style": "IPY_MODEL_b4f5de83c82942a496d91b4df80c89f5",
      "tooltip": ""
     }
    },
    "457271778d4348d8b931e5511c769d1d": {
     "model_module": "@jupyter-widgets/controls",
     "model_name": "HTMLModel",
     "model_module_version": "1.5.0",
     "state": {
      "_dom_classes": [],
      "_model_module": "@jupyter-widgets/controls",
      "_model_module_version": "1.5.0",
      "_model_name": "HTMLModel",
      "_view_count": null,
      "_view_module": "@jupyter-widgets/controls",
      "_view_module_version": "1.5.0",
      "_view_name": "HTMLView",
      "description": "",
      "description_tooltip": null,
      "layout": "IPY_MODEL_b63db35429e745dea36ab4c136021b49",
      "placeholder": "​",
      "style": "IPY_MODEL_c7cb730a7f354d95be0402f330aea5c9",
      "value": "\n<b>Pro Tip:</b> If you don't already have one, you can create a dedicated\n'notebooks' token with 'write' access, that you can then easily reuse for all\nnotebooks. </center>"
     }
    },
    "ecaa2d5a7af24eeab53c5bbdd499221e": {
     "model_module": "@jupyter-widgets/base",
     "model_name": "LayoutModel",
     "model_module_version": "1.2.0",
     "state": {
      "_model_module": "@jupyter-widgets/base",
      "_model_module_version": "1.2.0",
      "_model_name": "LayoutModel",
      "_view_count": null,
      "_view_module": "@jupyter-widgets/base",
      "_view_module_version": "1.2.0",
      "_view_name": "LayoutView",
      "align_content": null,
      "align_items": "center",
      "align_self": null,
      "border": null,
      "bottom": null,
      "display": "flex",
      "flex": null,
      "flex_flow": "column",
      "grid_area": null,
      "grid_auto_columns": null,
      "grid_auto_flow": null,
      "grid_auto_rows": null,
      "grid_column": null,
      "grid_gap": null,
      "grid_row": null,
      "grid_template_areas": null,
      "grid_template_columns": null,
      "grid_template_rows": null,
      "height": null,
      "justify_content": null,
      "justify_items": null,
      "left": null,
      "margin": null,
      "max_height": null,
      "max_width": null,
      "min_height": null,
      "min_width": null,
      "object_fit": null,
      "object_position": null,
      "order": null,
      "overflow": null,
      "overflow_x": null,
      "overflow_y": null,
      "padding": null,
      "right": null,
      "top": null,
      "visibility": null,
      "width": "50%"
     }
    },
    "b61254664ab44c89ac9d2c6c91a107f2": {
     "model_module": "@jupyter-widgets/base",
     "model_name": "LayoutModel",
     "model_module_version": "1.2.0",
     "state": {
      "_model_module": "@jupyter-widgets/base",
      "_model_module_version": "1.2.0",
      "_model_name": "LayoutModel",
      "_view_count": null,
      "_view_module": "@jupyter-widgets/base",
      "_view_module_version": "1.2.0",
      "_view_name": "LayoutView",
      "align_content": null,
      "align_items": null,
      "align_self": null,
      "border": null,
      "bottom": null,
      "display": null,
      "flex": null,
      "flex_flow": null,
      "grid_area": null,
      "grid_auto_columns": null,
      "grid_auto_flow": null,
      "grid_auto_rows": null,
      "grid_column": null,
      "grid_gap": null,
      "grid_row": null,
      "grid_template_areas": null,
      "grid_template_columns": null,
      "grid_template_rows": null,
      "height": null,
      "justify_content": null,
      "justify_items": null,
      "left": null,
      "margin": null,
      "max_height": null,
      "max_width": null,
      "min_height": null,
      "min_width": null,
      "object_fit": null,
      "object_position": null,
      "order": null,
      "overflow": null,
      "overflow_x": null,
      "overflow_y": null,
      "padding": null,
      "right": null,
      "top": null,
      "visibility": null,
      "width": null
     }
    },
    "056198225f254826843cfdb3265bbd77": {
     "model_module": "@jupyter-widgets/controls",
     "model_name": "DescriptionStyleModel",
     "model_module_version": "1.5.0",
     "state": {
      "_model_module": "@jupyter-widgets/controls",
      "_model_module_version": "1.5.0",
      "_model_name": "DescriptionStyleModel",
      "_view_count": null,
      "_view_module": "@jupyter-widgets/base",
      "_view_module_version": "1.2.0",
      "_view_name": "StyleView",
      "description_width": ""
     }
    },
    "d491154d83a8459b9cc55b86d18aae61": {
     "model_module": "@jupyter-widgets/base",
     "model_name": "LayoutModel",
     "model_module_version": "1.2.0",
     "state": {
      "_model_module": "@jupyter-widgets/base",
      "_model_module_version": "1.2.0",
      "_model_name": "LayoutModel",
      "_view_count": null,
      "_view_module": "@jupyter-widgets/base",
      "_view_module_version": "1.2.0",
      "_view_name": "LayoutView",
      "align_content": null,
      "align_items": null,
      "align_self": null,
      "border": null,
      "bottom": null,
      "display": null,
      "flex": null,
      "flex_flow": null,
      "grid_area": null,
      "grid_auto_columns": null,
      "grid_auto_flow": null,
      "grid_auto_rows": null,
      "grid_column": null,
      "grid_gap": null,
      "grid_row": null,
      "grid_template_areas": null,
      "grid_template_columns": null,
      "grid_template_rows": null,
      "height": null,
      "justify_content": null,
      "justify_items": null,
      "left": null,
      "margin": null,
      "max_height": null,
      "max_width": null,
      "min_height": null,
      "min_width": null,
      "object_fit": null,
      "object_position": null,
      "order": null,
      "overflow": null,
      "overflow_x": null,
      "overflow_y": null,
      "padding": null,
      "right": null,
      "top": null,
      "visibility": null,
      "width": null
     }
    },
    "c090e5a71b414ee3a267c4244717595c": {
     "model_module": "@jupyter-widgets/controls",
     "model_name": "DescriptionStyleModel",
     "model_module_version": "1.5.0",
     "state": {
      "_model_module": "@jupyter-widgets/controls",
      "_model_module_version": "1.5.0",
      "_model_name": "DescriptionStyleModel",
      "_view_count": null,
      "_view_module": "@jupyter-widgets/base",
      "_view_module_version": "1.2.0",
      "_view_name": "StyleView",
      "description_width": ""
     }
    },
    "95afc7a48fef4cc392a941182fc5ae0d": {
     "model_module": "@jupyter-widgets/base",
     "model_name": "LayoutModel",
     "model_module_version": "1.2.0",
     "state": {
      "_model_module": "@jupyter-widgets/base",
      "_model_module_version": "1.2.0",
      "_model_name": "LayoutModel",
      "_view_count": null,
      "_view_module": "@jupyter-widgets/base",
      "_view_module_version": "1.2.0",
      "_view_name": "LayoutView",
      "align_content": null,
      "align_items": null,
      "align_self": null,
      "border": null,
      "bottom": null,
      "display": null,
      "flex": null,
      "flex_flow": null,
      "grid_area": null,
      "grid_auto_columns": null,
      "grid_auto_flow": null,
      "grid_auto_rows": null,
      "grid_column": null,
      "grid_gap": null,
      "grid_row": null,
      "grid_template_areas": null,
      "grid_template_columns": null,
      "grid_template_rows": null,
      "height": null,
      "justify_content": null,
      "justify_items": null,
      "left": null,
      "margin": null,
      "max_height": null,
      "max_width": null,
      "min_height": null,
      "min_width": null,
      "object_fit": null,
      "object_position": null,
      "order": null,
      "overflow": null,
      "overflow_x": null,
      "overflow_y": null,
      "padding": null,
      "right": null,
      "top": null,
      "visibility": null,
      "width": null
     }
    },
    "63696055388f4f0b8b1ce3d8fa3d5eb6": {
     "model_module": "@jupyter-widgets/controls",
     "model_name": "DescriptionStyleModel",
     "model_module_version": "1.5.0",
     "state": {
      "_model_module": "@jupyter-widgets/controls",
      "_model_module_version": "1.5.0",
      "_model_name": "DescriptionStyleModel",
      "_view_count": null,
      "_view_module": "@jupyter-widgets/base",
      "_view_module_version": "1.2.0",
      "_view_name": "StyleView",
      "description_width": ""
     }
    },
    "783dd56b69c646f6880ad45e59427467": {
     "model_module": "@jupyter-widgets/base",
     "model_name": "LayoutModel",
     "model_module_version": "1.2.0",
     "state": {
      "_model_module": "@jupyter-widgets/base",
      "_model_module_version": "1.2.0",
      "_model_name": "LayoutModel",
      "_view_count": null,
      "_view_module": "@jupyter-widgets/base",
      "_view_module_version": "1.2.0",
      "_view_name": "LayoutView",
      "align_content": null,
      "align_items": null,
      "align_self": null,
      "border": null,
      "bottom": null,
      "display": null,
      "flex": null,
      "flex_flow": null,
      "grid_area": null,
      "grid_auto_columns": null,
      "grid_auto_flow": null,
      "grid_auto_rows": null,
      "grid_column": null,
      "grid_gap": null,
      "grid_row": null,
      "grid_template_areas": null,
      "grid_template_columns": null,
      "grid_template_rows": null,
      "height": null,
      "justify_content": null,
      "justify_items": null,
      "left": null,
      "margin": null,
      "max_height": null,
      "max_width": null,
      "min_height": null,
      "min_width": null,
      "object_fit": null,
      "object_position": null,
      "order": null,
      "overflow": null,
      "overflow_x": null,
      "overflow_y": null,
      "padding": null,
      "right": null,
      "top": null,
      "visibility": null,
      "width": null
     }
    },
    "b4f5de83c82942a496d91b4df80c89f5": {
     "model_module": "@jupyter-widgets/controls",
     "model_name": "ButtonStyleModel",
     "model_module_version": "1.5.0",
     "state": {
      "_model_module": "@jupyter-widgets/controls",
      "_model_module_version": "1.5.0",
      "_model_name": "ButtonStyleModel",
      "_view_count": null,
      "_view_module": "@jupyter-widgets/base",
      "_view_module_version": "1.2.0",
      "_view_name": "StyleView",
      "button_color": null,
      "font_weight": ""
     }
    },
    "b63db35429e745dea36ab4c136021b49": {
     "model_module": "@jupyter-widgets/base",
     "model_name": "LayoutModel",
     "model_module_version": "1.2.0",
     "state": {
      "_model_module": "@jupyter-widgets/base",
      "_model_module_version": "1.2.0",
      "_model_name": "LayoutModel",
      "_view_count": null,
      "_view_module": "@jupyter-widgets/base",
      "_view_module_version": "1.2.0",
      "_view_name": "LayoutView",
      "align_content": null,
      "align_items": null,
      "align_self": null,
      "border": null,
      "bottom": null,
      "display": null,
      "flex": null,
      "flex_flow": null,
      "grid_area": null,
      "grid_auto_columns": null,
      "grid_auto_flow": null,
      "grid_auto_rows": null,
      "grid_column": null,
      "grid_gap": null,
      "grid_row": null,
      "grid_template_areas": null,
      "grid_template_columns": null,
      "grid_template_rows": null,
      "height": null,
      "justify_content": null,
      "justify_items": null,
      "left": null,
      "margin": null,
      "max_height": null,
      "max_width": null,
      "min_height": null,
      "min_width": null,
      "object_fit": null,
      "object_position": null,
      "order": null,
      "overflow": null,
      "overflow_x": null,
      "overflow_y": null,
      "padding": null,
      "right": null,
      "top": null,
      "visibility": null,
      "width": null
     }
    },
    "c7cb730a7f354d95be0402f330aea5c9": {
     "model_module": "@jupyter-widgets/controls",
     "model_name": "DescriptionStyleModel",
     "model_module_version": "1.5.0",
     "state": {
      "_model_module": "@jupyter-widgets/controls",
      "_model_module_version": "1.5.0",
      "_model_name": "DescriptionStyleModel",
      "_view_count": null,
      "_view_module": "@jupyter-widgets/base",
      "_view_module_version": "1.2.0",
      "_view_name": "StyleView",
      "description_width": ""
     }
    }
   }
  },
  "kernelspec": {
   "name": "python3",
   "language": "python",
   "display_name": "Python 3 (ipykernel)"
  },
  "datalore": {
   "computation_mode": "JUPYTER",
   "package_manager": "pip",
   "base_environment": "default",
   "packages": [
    {
     "name": "datasets",
     "version": "2.13.0",
     "source": "PIP"
    },
    {
     "name": "openai",
     "version": "0.27.8",
     "source": "PIP"
    },
    {
     "name": "tiktoken",
     "version": "0.4.0",
     "source": "PIP"
    }
   ],
   "report_row_ids": [],
   "version": 3
  },
  "colab": {
   "provenance": []
  }
 },
 "nbformat": 4,
 "nbformat_minor": 0
}
